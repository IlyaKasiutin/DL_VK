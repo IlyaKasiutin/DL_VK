{
 "metadata": {
  "kernelspec": {
   "language": "python",
   "display_name": "Python 3",
   "name": "python3"
  },
  "language_info": {
   "name": "python",
   "version": "3.10.12",
   "mimetype": "text/x-python",
   "codemirror_mode": {
    "name": "ipython",
    "version": 3
   },
   "pygments_lexer": "ipython3",
   "nbconvert_exporter": "python",
   "file_extension": ".py"
  },
  "kaggle": {
   "accelerator": "gpu",
   "dataSources": [
    {
     "sourceId": 7120126,
     "sourceType": "datasetVersion",
     "datasetId": 4106652
    }
   ],
   "dockerImageVersionId": 30587,
   "isInternetEnabled": true,
   "language": "python",
   "sourceType": "notebook",
   "isGpuEnabled": true
  }
 },
 "nbformat_minor": 4,
 "nbformat": 4,
 "cells": [
  {
   "cell_type": "markdown",
   "source": [
    "## Задание: обучите модель классификации букв для задачи расстановки ударения с помощью методов из библиотеки transformers.\n",
    "## Датасет для обучения можно взять отсюда: https://github.com/Koziev/NLP_Datasets/blob/master/Stress/all_accents.zip\n",
    "\n",
    "### 1. Напишите класс для Dataset/Dataloder и разбейте данные на случайные train / test сплиты в соотношении 50:50. (1 балл)\n",
    "### 2. Попробуйте обучить одну или несколько из моделей: Bert, Albert, Deberta. Посчитайте метрику Accuracy на train и test. (1 балл). При преодолении порога в Accuracy на test 0.8: (+1 балл), 0.85: (+2 балла), 0.89: (+3 балла).\n",
    "### Пример конфигурации для deberta: https://huggingface.co/IlyaGusev/ru-word-stress-transformer/blob/main/config.json"
   ],
   "metadata": {}
  },
  {
   "cell_type": "code",
   "source": [
    "!git clone https://github.com/KuzmaKhrabrov/character-tokenizer.git"
   ],
   "metadata": {
    "_uuid": "8f2839f25d086af736a60e9eeb907d3b93b6e0e5",
    "_cell_guid": "b1076dfc-b9ad-4769-8c92-a6c4dae69d19",
    "execution": {
     "iopub.status.busy": "2023-12-05T15:22:21.066609Z",
     "iopub.execute_input": "2023-12-05T15:22:21.067342Z",
     "iopub.status.idle": "2023-12-05T15:22:23.010851Z",
     "shell.execute_reply.started": "2023-12-05T15:22:21.067309Z",
     "shell.execute_reply": "2023-12-05T15:22:23.009650Z"
    },
    "trusted": true
   },
   "execution_count": 2,
   "outputs": [
    {
     "name": "stdout",
     "text": "Cloning into 'character-tokenizer'...\nremote: Enumerating objects: 20, done.\u001B[K\nremote: Counting objects: 100% (20/20), done.\u001B[K\nremote: Compressing objects: 100% (14/14), done.\u001B[K\nremote: Total 20 (delta 5), reused 10 (delta 3), pack-reused 0\u001B[K\nReceiving objects: 100% (20/20), 5.89 KiB | 1.96 MiB/s, done.\nResolving deltas: 100% (5/5), done.\n",
     "output_type": "stream"
    }
   ]
  },
  {
   "cell_type": "code",
   "source": [
    "!pip install transformers"
   ],
   "metadata": {
    "execution": {
     "iopub.status.busy": "2023-12-05T15:22:23.013182Z",
     "iopub.execute_input": "2023-12-05T15:22:23.013477Z",
     "iopub.status.idle": "2023-12-05T15:22:35.160305Z",
     "shell.execute_reply.started": "2023-12-05T15:22:23.013451Z",
     "shell.execute_reply": "2023-12-05T15:22:35.159272Z"
    },
    "trusted": true
   },
   "execution_count": 3,
   "outputs": [
    {
     "name": "stdout",
     "text": "Requirement already satisfied: transformers in /opt/conda/lib/python3.10/site-packages (4.35.0)\nRequirement already satisfied: filelock in /opt/conda/lib/python3.10/site-packages (from transformers) (3.12.2)\nRequirement already satisfied: huggingface-hub<1.0,>=0.16.4 in /opt/conda/lib/python3.10/site-packages (from transformers) (0.17.3)\nRequirement already satisfied: numpy>=1.17 in /opt/conda/lib/python3.10/site-packages (from transformers) (1.24.3)\nRequirement already satisfied: packaging>=20.0 in /opt/conda/lib/python3.10/site-packages (from transformers) (21.3)\nRequirement already satisfied: pyyaml>=5.1 in /opt/conda/lib/python3.10/site-packages (from transformers) (6.0.1)\nRequirement already satisfied: regex!=2019.12.17 in /opt/conda/lib/python3.10/site-packages (from transformers) (2023.8.8)\nRequirement already satisfied: requests in /opt/conda/lib/python3.10/site-packages (from transformers) (2.31.0)\nRequirement already satisfied: tokenizers<0.15,>=0.14 in /opt/conda/lib/python3.10/site-packages (from transformers) (0.14.1)\nRequirement already satisfied: safetensors>=0.3.1 in /opt/conda/lib/python3.10/site-packages (from transformers) (0.4.0)\nRequirement already satisfied: tqdm>=4.27 in /opt/conda/lib/python3.10/site-packages (from transformers) (4.66.1)\nRequirement already satisfied: fsspec in /opt/conda/lib/python3.10/site-packages (from huggingface-hub<1.0,>=0.16.4->transformers) (2023.10.0)\nRequirement already satisfied: typing-extensions>=3.7.4.3 in /opt/conda/lib/python3.10/site-packages (from huggingface-hub<1.0,>=0.16.4->transformers) (4.5.0)\nRequirement already satisfied: pyparsing!=3.0.5,>=2.0.2 in /opt/conda/lib/python3.10/site-packages (from packaging>=20.0->transformers) (3.0.9)\nRequirement already satisfied: charset-normalizer<4,>=2 in /opt/conda/lib/python3.10/site-packages (from requests->transformers) (3.2.0)\nRequirement already satisfied: idna<4,>=2.5 in /opt/conda/lib/python3.10/site-packages (from requests->transformers) (3.4)\nRequirement already satisfied: urllib3<3,>=1.21.1 in /opt/conda/lib/python3.10/site-packages (from requests->transformers) (1.26.15)\nRequirement already satisfied: certifi>=2017.4.17 in /opt/conda/lib/python3.10/site-packages (from requests->transformers) (2023.7.22)\n",
     "output_type": "stream"
    }
   ]
  },
  {
   "cell_type": "code",
   "source": [
    "import string\n",
    "import sys\n",
    "sys.path.append(\"/kaggle/working/character-tokenizer\")\n",
    "from charactertokenizer import CharacterTokenizer\n",
    "\n",
    "device = 'cuda'\n",
    "\n",
    "\n",
    "chars = \"АаБбВвГгДдЕеЁёЖжЗзИиЙйКкЛлМмНнОоПпРрСсТтУуФфХхЦцЧчШшЩщЪъЫыЬьЭэЮюЯя\"\n",
    "model_max_length = 64\n",
    "tokenizer = CharacterTokenizer(chars, model_max_length)"
   ],
   "metadata": {
    "execution": {
     "iopub.status.busy": "2023-12-05T15:22:35.161860Z",
     "iopub.execute_input": "2023-12-05T15:22:35.162903Z",
     "iopub.status.idle": "2023-12-05T15:22:39.486266Z",
     "shell.execute_reply.started": "2023-12-05T15:22:35.162861Z",
     "shell.execute_reply": "2023-12-05T15:22:39.485275Z"
    },
    "trusted": true
   },
   "execution_count": 4,
   "outputs": []
  },
  {
   "cell_type": "code",
   "source": [
    "example = \"Привет\"\n",
    "tokens = tokenizer(example)\n",
    "print(tokens)\n",
    "print(tokenizer.decode(tokens['input_ids']))"
   ],
   "metadata": {
    "execution": {
     "iopub.status.busy": "2023-12-05T15:22:39.488619Z",
     "iopub.execute_input": "2023-12-05T15:22:39.489048Z",
     "iopub.status.idle": "2023-12-05T15:22:48.942062Z",
     "shell.execute_reply.started": "2023-12-05T15:22:39.489021Z",
     "shell.execute_reply": "2023-12-05T15:22:48.941120Z"
    },
    "trusted": true
   },
   "execution_count": 5,
   "outputs": [
    {
     "name": "stdout",
     "text": "{'input_ids': [0, 39, 42, 26, 12, 18, 46, 1], 'token_type_ids': [0, 0, 0, 0, 0, 0, 0, 0], 'attention_mask': [1, 1, 1, 1, 1, 1, 1, 1]}\n",
     "output_type": "stream"
    },
    {
     "name": "stderr",
     "text": "/opt/conda/lib/python3.10/site-packages/scipy/__init__.py:146: UserWarning: A NumPy version >=1.16.5 and <1.23.0 is required for this version of SciPy (detected version 1.24.3\n  warnings.warn(f\"A NumPy version >={np_minversion} and <{np_maxversion}\"\n",
     "output_type": "stream"
    },
    {
     "name": "stdout",
     "text": "[CLS]Привет[SEP]\n",
     "output_type": "stream"
    }
   ]
  },
  {
   "cell_type": "markdown",
   "source": [
    "## Импортируем датасет"
   ],
   "metadata": {}
  },
  {
   "cell_type": "code",
   "source": [
    "import pandas as pd\n",
    "data = pd.read_csv('/kaggle/input/accents/all_accents.tsv', sep='\\t')\n",
    "data"
   ],
   "metadata": {
    "execution": {
     "iopub.status.busy": "2023-12-05T15:22:48.943307Z",
     "iopub.execute_input": "2023-12-05T15:22:48.943857Z",
     "iopub.status.idle": "2023-12-05T15:22:52.537587Z",
     "shell.execute_reply.started": "2023-12-05T15:22:48.943827Z",
     "shell.execute_reply": "2023-12-05T15:22:52.536648Z"
    },
    "trusted": true
   },
   "execution_count": 6,
   "outputs": [
    {
     "execution_count": 6,
     "output_type": "execute_result",
     "data": {
      "text/plain": "                     -де              -д^е\n0                    -ка              -к^а\n1                  -либо            -л^ибо\n2                -нибудь          -ниб^удь\n3                     -с                -с\n4                  -таки            -так^и\n...                  ...               ...\n1680529  ӂюль-верновский  ӂюль-в^ерновский\n1680530           ӂюрить           ӂюр^ить\n1680531           ӂӂение           ӂӂ^ение\n1680532          ӂӂенный           ӂӂенный\n1680533           ӂӂеный            ӂӂеный\n\n[1680534 rows x 2 columns]",
      "text/html": "<div>\n<style scoped>\n    .dataframe tbody tr th:only-of-type {\n        vertical-align: middle;\n    }\n\n    .dataframe tbody tr th {\n        vertical-align: top;\n    }\n\n    .dataframe thead th {\n        text-align: right;\n    }\n</style>\n<table border=\"1\" class=\"dataframe\">\n  <thead>\n    <tr style=\"text-align: right;\">\n      <th></th>\n      <th>-де</th>\n      <th>-д^е</th>\n    </tr>\n  </thead>\n  <tbody>\n    <tr>\n      <th>0</th>\n      <td>-ка</td>\n      <td>-к^а</td>\n    </tr>\n    <tr>\n      <th>1</th>\n      <td>-либо</td>\n      <td>-л^ибо</td>\n    </tr>\n    <tr>\n      <th>2</th>\n      <td>-нибудь</td>\n      <td>-ниб^удь</td>\n    </tr>\n    <tr>\n      <th>3</th>\n      <td>-с</td>\n      <td>-с</td>\n    </tr>\n    <tr>\n      <th>4</th>\n      <td>-таки</td>\n      <td>-так^и</td>\n    </tr>\n    <tr>\n      <th>...</th>\n      <td>...</td>\n      <td>...</td>\n    </tr>\n    <tr>\n      <th>1680529</th>\n      <td>ӂюль-верновский</td>\n      <td>ӂюль-в^ерновский</td>\n    </tr>\n    <tr>\n      <th>1680530</th>\n      <td>ӂюрить</td>\n      <td>ӂюр^ить</td>\n    </tr>\n    <tr>\n      <th>1680531</th>\n      <td>ӂӂение</td>\n      <td>ӂӂ^ение</td>\n    </tr>\n    <tr>\n      <th>1680532</th>\n      <td>ӂӂенный</td>\n      <td>ӂӂенный</td>\n    </tr>\n    <tr>\n      <th>1680533</th>\n      <td>ӂӂеный</td>\n      <td>ӂӂеный</td>\n    </tr>\n  </tbody>\n</table>\n<p>1680534 rows × 2 columns</p>\n</div>"
     },
     "metadata": {}
    }
   ]
  },
  {
   "cell_type": "code",
   "source": [
    "data.rename(columns={\"-де\": \"words\", \"-д^е\": \"answers\"}, inplace=True)"
   ],
   "metadata": {
    "execution": {
     "iopub.status.busy": "2023-12-05T15:22:52.538667Z",
     "iopub.execute_input": "2023-12-05T15:22:52.538959Z",
     "iopub.status.idle": "2023-12-05T15:22:52.544774Z",
     "shell.execute_reply.started": "2023-12-05T15:22:52.538913Z",
     "shell.execute_reply": "2023-12-05T15:22:52.543739Z"
    },
    "trusted": true
   },
   "execution_count": 7,
   "outputs": []
  },
  {
   "cell_type": "code",
   "source": [
    "data"
   ],
   "metadata": {
    "execution": {
     "iopub.status.busy": "2023-12-05T15:22:52.545964Z",
     "iopub.execute_input": "2023-12-05T15:22:52.546290Z",
     "iopub.status.idle": "2023-12-05T15:22:52.658048Z",
     "shell.execute_reply.started": "2023-12-05T15:22:52.546260Z",
     "shell.execute_reply": "2023-12-05T15:22:52.657099Z"
    },
    "trusted": true
   },
   "execution_count": 8,
   "outputs": [
    {
     "execution_count": 8,
     "output_type": "execute_result",
     "data": {
      "text/plain": "                   words           answers\n0                    -ка              -к^а\n1                  -либо            -л^ибо\n2                -нибудь          -ниб^удь\n3                     -с                -с\n4                  -таки            -так^и\n...                  ...               ...\n1680529  ӂюль-верновский  ӂюль-в^ерновский\n1680530           ӂюрить           ӂюр^ить\n1680531           ӂӂение           ӂӂ^ение\n1680532          ӂӂенный           ӂӂенный\n1680533           ӂӂеный            ӂӂеный\n\n[1680534 rows x 2 columns]",
      "text/html": "<div>\n<style scoped>\n    .dataframe tbody tr th:only-of-type {\n        vertical-align: middle;\n    }\n\n    .dataframe tbody tr th {\n        vertical-align: top;\n    }\n\n    .dataframe thead th {\n        text-align: right;\n    }\n</style>\n<table border=\"1\" class=\"dataframe\">\n  <thead>\n    <tr style=\"text-align: right;\">\n      <th></th>\n      <th>words</th>\n      <th>answers</th>\n    </tr>\n  </thead>\n  <tbody>\n    <tr>\n      <th>0</th>\n      <td>-ка</td>\n      <td>-к^а</td>\n    </tr>\n    <tr>\n      <th>1</th>\n      <td>-либо</td>\n      <td>-л^ибо</td>\n    </tr>\n    <tr>\n      <th>2</th>\n      <td>-нибудь</td>\n      <td>-ниб^удь</td>\n    </tr>\n    <tr>\n      <th>3</th>\n      <td>-с</td>\n      <td>-с</td>\n    </tr>\n    <tr>\n      <th>4</th>\n      <td>-таки</td>\n      <td>-так^и</td>\n    </tr>\n    <tr>\n      <th>...</th>\n      <td>...</td>\n      <td>...</td>\n    </tr>\n    <tr>\n      <th>1680529</th>\n      <td>ӂюль-верновский</td>\n      <td>ӂюль-в^ерновский</td>\n    </tr>\n    <tr>\n      <th>1680530</th>\n      <td>ӂюрить</td>\n      <td>ӂюр^ить</td>\n    </tr>\n    <tr>\n      <th>1680531</th>\n      <td>ӂӂение</td>\n      <td>ӂӂ^ение</td>\n    </tr>\n    <tr>\n      <th>1680532</th>\n      <td>ӂӂенный</td>\n      <td>ӂӂенный</td>\n    </tr>\n    <tr>\n      <th>1680533</th>\n      <td>ӂӂеный</td>\n      <td>ӂӂеный</td>\n    </tr>\n  </tbody>\n</table>\n<p>1680534 rows × 2 columns</p>\n</div>"
     },
     "metadata": {}
    }
   ]
  },
  {
   "cell_type": "code",
   "source": [
    "data.shape"
   ],
   "metadata": {
    "execution": {
     "iopub.status.busy": "2023-12-05T15:22:52.659126Z",
     "iopub.execute_input": "2023-12-05T15:22:52.659440Z",
     "iopub.status.idle": "2023-12-05T15:22:52.666227Z",
     "shell.execute_reply.started": "2023-12-05T15:22:52.659400Z",
     "shell.execute_reply": "2023-12-05T15:22:52.665418Z"
    },
    "trusted": true
   },
   "execution_count": 9,
   "outputs": [
    {
     "execution_count": 9,
     "output_type": "execute_result",
     "data": {
      "text/plain": "(1680534, 2)"
     },
     "metadata": {}
    }
   ]
  },
  {
   "cell_type": "code",
   "source": [
    "# проверка, все ли строки валидные\n",
    "\n",
    "data[(data['answers'].str.contains('^')==True)].shape"
   ],
   "metadata": {
    "execution": {
     "iopub.status.busy": "2023-12-05T15:22:52.670507Z",
     "iopub.execute_input": "2023-12-05T15:22:52.670771Z",
     "iopub.status.idle": "2023-12-05T15:22:54.136187Z",
     "shell.execute_reply.started": "2023-12-05T15:22:52.670748Z",
     "shell.execute_reply": "2023-12-05T15:22:54.135275Z"
    },
    "trusted": true
   },
   "execution_count": 10,
   "outputs": [
    {
     "execution_count": 10,
     "output_type": "execute_result",
     "data": {
      "text/plain": "(1680534, 2)"
     },
     "metadata": {}
    }
   ]
  },
  {
   "cell_type": "code",
   "source": [
    "from sklearn.utils import shuffle\n",
    "data = shuffle(data)"
   ],
   "metadata": {
    "execution": {
     "iopub.status.busy": "2023-12-05T15:22:54.137490Z",
     "iopub.execute_input": "2023-12-05T15:22:54.138245Z",
     "iopub.status.idle": "2023-12-05T15:22:54.700686Z",
     "shell.execute_reply.started": "2023-12-05T15:22:54.138205Z",
     "shell.execute_reply": "2023-12-05T15:22:54.699871Z"
    },
    "trusted": true
   },
   "execution_count": 11,
   "outputs": []
  },
  {
   "cell_type": "code",
   "source": [
    "def get_emphasis_number(word: str):\n",
    "    vowel_list = 'еуыаоэюия'\n",
    "    order = 0\n",
    "    for idx, letter in enumerate(word):\n",
    "        if letter in vowel_list:\n",
    "            order += 1\n",
    "        \n",
    "        if '^' not in word[idx:]:\n",
    "            if (order == 0):\n",
    "                return 1\n",
    "            return order\n",
    "        \n",
    "    \n",
    "print(get_emphasis_number('ӂӂ^ение'))\n",
    "print(get_emphasis_number('ӂӂени^е'))"
   ],
   "metadata": {
    "execution": {
     "iopub.status.busy": "2023-12-05T15:22:54.701804Z",
     "iopub.execute_input": "2023-12-05T15:22:54.702089Z",
     "iopub.status.idle": "2023-12-05T15:22:54.708795Z",
     "shell.execute_reply.started": "2023-12-05T15:22:54.702064Z",
     "shell.execute_reply": "2023-12-05T15:22:54.707833Z"
    },
    "trusted": true
   },
   "execution_count": 12,
   "outputs": [
    {
     "name": "stdout",
     "text": "1\n3\n",
     "output_type": "stream"
    }
   ]
  },
  {
   "cell_type": "code",
   "source": [
    "data[\"labels\"] = data[\"answers\"].apply(get_emphasis_number)"
   ],
   "metadata": {
    "execution": {
     "iopub.status.busy": "2023-12-05T15:22:54.709904Z",
     "iopub.execute_input": "2023-12-05T15:22:54.710250Z",
     "iopub.status.idle": "2023-12-05T15:23:00.693213Z",
     "shell.execute_reply.started": "2023-12-05T15:22:54.710218Z",
     "shell.execute_reply": "2023-12-05T15:23:00.692426Z"
    },
    "trusted": true
   },
   "execution_count": 13,
   "outputs": []
  },
  {
   "cell_type": "code",
   "source": [
    "data.labels.unique()"
   ],
   "metadata": {
    "execution": {
     "iopub.status.busy": "2023-12-05T15:23:00.694277Z",
     "iopub.execute_input": "2023-12-05T15:23:00.694565Z",
     "iopub.status.idle": "2023-12-05T15:23:00.710863Z",
     "shell.execute_reply.started": "2023-12-05T15:23:00.694540Z",
     "shell.execute_reply": "2023-12-05T15:23:00.710096Z"
    },
    "trusted": true
   },
   "execution_count": 14,
   "outputs": [
    {
     "execution_count": 14,
     "output_type": "execute_result",
     "data": {
      "text/plain": "array([ 4,  3,  2,  5,  1,  6,  7,  9,  8, 13, 10, 11, 12, 15, 21])"
     },
     "metadata": {}
    }
   ]
  },
  {
   "cell_type": "code",
   "source": [
    "data.labels.value_counts()"
   ],
   "metadata": {
    "execution": {
     "iopub.status.busy": "2023-12-05T15:23:00.714217Z",
     "iopub.execute_input": "2023-12-05T15:23:00.714529Z",
     "iopub.status.idle": "2023-12-05T15:23:00.738595Z",
     "shell.execute_reply.started": "2023-12-05T15:23:00.714506Z",
     "shell.execute_reply": "2023-12-05T15:23:00.737657Z"
    },
    "trusted": true
   },
   "execution_count": 15,
   "outputs": [
    {
     "execution_count": 15,
     "output_type": "execute_result",
     "data": {
      "text/plain": "labels\n3     586477\n2     563967\n1     234078\n4     209830\n5      64004\n6      16992\n7       4056\n8        900\n9        171\n10        38\n11        12\n13         4\n12         3\n15         1\n21         1\nName: count, dtype: int64"
     },
     "metadata": {}
    }
   ]
  },
  {
   "cell_type": "code",
   "source": [
    "print(data[data['labels']==21].words)\n",
    "print(data[data['labels']==15].words)"
   ],
   "metadata": {
    "execution": {
     "iopub.status.busy": "2023-12-05T15:23:00.739749Z",
     "iopub.execute_input": "2023-12-05T15:23:00.740153Z",
     "iopub.status.idle": "2023-12-05T15:23:00.752019Z",
     "shell.execute_reply.started": "2023-12-05T15:23:00.740121Z",
     "shell.execute_reply": "2023-12-05T15:23:00.751065Z"
    },
    "trusted": true
   },
   "execution_count": 16,
   "outputs": [
    {
     "name": "stdout",
     "text": "624999    лланвайрпуллгуингиллгогерихуирндробуллллантиси...\nName: words, dtype: object\n790570    никотинамидадениндинуклеотидфосфат\nName: words, dtype: object\n",
     "output_type": "stream"
    }
   ]
  },
  {
   "cell_type": "code",
   "source": [
    "data = data[data['labels']<9]"
   ],
   "metadata": {
    "execution": {
     "iopub.status.busy": "2023-12-05T15:23:00.753230Z",
     "iopub.execute_input": "2023-12-05T15:23:00.753503Z",
     "iopub.status.idle": "2023-12-05T15:23:00.993914Z",
     "shell.execute_reply.started": "2023-12-05T15:23:00.753478Z",
     "shell.execute_reply": "2023-12-05T15:23:00.992998Z"
    },
    "trusted": true
   },
   "execution_count": 17,
   "outputs": []
  },
  {
   "cell_type": "code",
   "source": [
    "number_of_classes = len(data.labels.unique())\n",
    "print(number_of_classes)"
   ],
   "metadata": {
    "execution": {
     "iopub.status.busy": "2023-12-05T15:23:00.995345Z",
     "iopub.execute_input": "2023-12-05T15:23:00.996059Z",
     "iopub.status.idle": "2023-12-05T15:23:01.010790Z",
     "shell.execute_reply.started": "2023-12-05T15:23:00.996025Z",
     "shell.execute_reply": "2023-12-05T15:23:01.009962Z"
    },
    "trusted": true
   },
   "execution_count": 18,
   "outputs": [
    {
     "name": "stdout",
     "text": "8\n",
     "output_type": "stream"
    }
   ]
  },
  {
   "cell_type": "code",
   "source": [
    "new_data = data.copy()"
   ],
   "metadata": {
    "execution": {
     "iopub.status.busy": "2023-12-05T15:23:01.012056Z",
     "iopub.execute_input": "2023-12-05T15:23:01.012339Z",
     "iopub.status.idle": "2023-12-05T15:23:01.110699Z",
     "shell.execute_reply.started": "2023-12-05T15:23:01.012317Z",
     "shell.execute_reply": "2023-12-05T15:23:01.109907Z"
    },
    "trusted": true
   },
   "execution_count": 19,
   "outputs": []
  },
  {
   "cell_type": "code",
   "source": [
    "classes = []\n",
    "n_samples = 4000\n",
    "\n",
    "for label in range(1, number_of_classes + 1):\n",
    "    classes.append(new_data[new_data['labels']==label])\n",
    "    if len(classes[-1]) > n_samples:\n",
    "        classes[-1] = classes[-1].sample(n=n_samples)"
   ],
   "metadata": {
    "execution": {
     "iopub.status.busy": "2023-12-05T15:23:01.111862Z",
     "iopub.execute_input": "2023-12-05T15:23:01.112209Z",
     "iopub.status.idle": "2023-12-05T15:23:01.453551Z",
     "shell.execute_reply.started": "2023-12-05T15:23:01.112171Z",
     "shell.execute_reply": "2023-12-05T15:23:01.452730Z"
    },
    "trusted": true
   },
   "execution_count": 20,
   "outputs": []
  },
  {
   "cell_type": "code",
   "source": [
    "for cl in classes:\n",
    "    print(cl.shape)"
   ],
   "metadata": {
    "execution": {
     "iopub.status.busy": "2023-12-05T15:23:01.454694Z",
     "iopub.execute_input": "2023-12-05T15:23:01.455000Z",
     "iopub.status.idle": "2023-12-05T15:23:01.460086Z",
     "shell.execute_reply.started": "2023-12-05T15:23:01.454974Z",
     "shell.execute_reply": "2023-12-05T15:23:01.459150Z"
    },
    "trusted": true
   },
   "execution_count": 21,
   "outputs": [
    {
     "name": "stdout",
     "text": "(4000, 3)\n(4000, 3)\n(4000, 3)\n(4000, 3)\n(4000, 3)\n(4000, 3)\n(4000, 3)\n(900, 3)\n",
     "output_type": "stream"
    }
   ]
  },
  {
   "cell_type": "code",
   "source": [
    "prepared_data = pd.concat(classes)"
   ],
   "metadata": {
    "execution": {
     "iopub.status.busy": "2023-12-05T15:23:01.461524Z",
     "iopub.execute_input": "2023-12-05T15:23:01.462104Z",
     "iopub.status.idle": "2023-12-05T15:23:01.471587Z",
     "shell.execute_reply.started": "2023-12-05T15:23:01.462078Z",
     "shell.execute_reply": "2023-12-05T15:23:01.470656Z"
    },
    "trusted": true
   },
   "execution_count": 22,
   "outputs": []
  },
  {
   "cell_type": "code",
   "source": [
    "prepared_data.labels.value_counts()"
   ],
   "metadata": {
    "execution": {
     "iopub.status.busy": "2023-12-05T15:23:01.472754Z",
     "iopub.execute_input": "2023-12-05T15:23:01.473135Z",
     "iopub.status.idle": "2023-12-05T15:23:01.481318Z",
     "shell.execute_reply.started": "2023-12-05T15:23:01.473109Z",
     "shell.execute_reply": "2023-12-05T15:23:01.480504Z"
    },
    "trusted": true
   },
   "execution_count": 23,
   "outputs": [
    {
     "execution_count": 23,
     "output_type": "execute_result",
     "data": {
      "text/plain": "labels\n1    4000\n2    4000\n3    4000\n4    4000\n5    4000\n6    4000\n7    4000\n8     900\nName: count, dtype: int64"
     },
     "metadata": {}
    }
   ]
  },
  {
   "cell_type": "code",
   "source": [
    "prepared_data.reset_index(drop=True, inplace=True)"
   ],
   "metadata": {
    "execution": {
     "iopub.status.busy": "2023-12-05T15:23:01.482512Z",
     "iopub.execute_input": "2023-12-05T15:23:01.482842Z",
     "iopub.status.idle": "2023-12-05T15:23:01.489418Z",
     "shell.execute_reply.started": "2023-12-05T15:23:01.482811Z",
     "shell.execute_reply": "2023-12-05T15:23:01.488652Z"
    },
    "trusted": true
   },
   "execution_count": 24,
   "outputs": []
  },
  {
   "cell_type": "markdown",
   "source": [
    "## Напишем кастомный датасет"
   ],
   "metadata": {}
  },
  {
   "cell_type": "code",
   "source": [
    "import numpy as np\n",
    "import torch\n",
    "from torch.utils.data import Dataset, DataLoader, random_split"
   ],
   "metadata": {
    "execution": {
     "iopub.status.busy": "2023-12-05T15:23:01.494608Z",
     "iopub.execute_input": "2023-12-05T15:23:01.494992Z",
     "iopub.status.idle": "2023-12-05T15:23:01.499752Z",
     "shell.execute_reply.started": "2023-12-05T15:23:01.494966Z",
     "shell.execute_reply": "2023-12-05T15:23:01.498669Z"
    },
    "trusted": true
   },
   "execution_count": 25,
   "outputs": []
  },
  {
   "cell_type": "code",
   "source": [
    "class CustomDataset(Dataset):\n",
    "    def __init__(self, x, y):\n",
    "        self.x = x\n",
    "        self.y = y\n",
    "    \n",
    "    def __len__(self):\n",
    "        return len(self.x)\n",
    "    \n",
    "    def __getitem__(self, idx):\n",
    "#         elem = self.words.iloc[idx]\n",
    "#         word = self.tokenizer(elem[\"words\"], padding=True, return_tensors='pt')\n",
    "# #         ans = self.tokenizer(elem[\"answers\"])\n",
    "#         label = elem[\"label\"]\n",
    "#         return {\"word\": word, \"label\": label}\n",
    "        return (self.x[idx], self.y[idx])\n",
    "    \n",
    "def data_collator(batch):\n",
    "#     y = torch.Tensor([p[1] for p in batch]).to(model.device)\n",
    "#     print(\"Before\")\n",
    "#     print(\"Batch:\", batch)\n",
    "    y = [torch.zeros(number_of_classes) for i in range(len(batch))]\n",
    "    for vec, p in zip(y, batch):\n",
    "        label = p[1]\n",
    "        vec[p[1] - 1] = 1\n",
    "    y = torch.stack(y, dim=0).to(device)\n",
    "        \n",
    "#     print(\"After\")\n",
    "#     x = tokenizer([p[0] for p in batch], return_tensors='pt', padding=True).to(model.device)\n",
    "#     x = tokenizer([p['word']['input_ids'] for p in batch], return_tensors='pt', padding=True)\n",
    "#     x = [p['word'] for p in batch]\n",
    "    x = tokenizer([p[0] for p in batch], return_tensors='pt', padding=True).to(device)\n",
    "    return (x, torch.Tensor(y))\n",
    "        "
   ],
   "metadata": {
    "execution": {
     "iopub.status.busy": "2023-12-05T15:23:01.500956Z",
     "iopub.execute_input": "2023-12-05T15:23:01.501326Z",
     "iopub.status.idle": "2023-12-05T15:23:01.511441Z",
     "shell.execute_reply.started": "2023-12-05T15:23:01.501295Z",
     "shell.execute_reply": "2023-12-05T15:23:01.510488Z"
    },
    "trusted": true
   },
   "execution_count": 26,
   "outputs": []
  },
  {
   "cell_type": "code",
   "source": [
    "dataset = CustomDataset(prepared_data.words.values, prepared_data.labels)\n",
    "train_size = int(len(dataset) * 0.5)\n",
    "test_size = int(len(dataset) - train_size)\n",
    "train_dataset, test_dataset = random_split(dataset, [train_size, test_size])\n",
    "val_size = int(len(train_dataset) * 0.1)\n",
    "train_dataset, val_dataset = random_split(train_dataset, [len(train_dataset) - val_size, val_size])"
   ],
   "metadata": {
    "execution": {
     "iopub.status.busy": "2023-12-05T15:23:01.512971Z",
     "iopub.execute_input": "2023-12-05T15:23:01.513284Z",
     "iopub.status.idle": "2023-12-05T15:23:01.537003Z",
     "shell.execute_reply.started": "2023-12-05T15:23:01.513260Z",
     "shell.execute_reply": "2023-12-05T15:23:01.536267Z"
    },
    "trusted": true
   },
   "execution_count": 27,
   "outputs": []
  },
  {
   "cell_type": "code",
   "source": [
    "len(train_dataset)"
   ],
   "metadata": {
    "execution": {
     "iopub.status.busy": "2023-12-05T15:23:01.537970Z",
     "iopub.execute_input": "2023-12-05T15:23:01.538225Z",
     "iopub.status.idle": "2023-12-05T15:23:01.546440Z",
     "shell.execute_reply.started": "2023-12-05T15:23:01.538202Z",
     "shell.execute_reply": "2023-12-05T15:23:01.545381Z"
    },
    "trusted": true
   },
   "execution_count": 28,
   "outputs": [
    {
     "execution_count": 28,
     "output_type": "execute_result",
     "data": {
      "text/plain": "13005"
     },
     "metadata": {}
    }
   ]
  },
  {
   "cell_type": "code",
   "source": [
    "BATCH_SIZE = 128\n",
    "N = 0\n",
    "\n",
    "train_loader = DataLoader(train_dataset, batch_size=BATCH_SIZE, shuffle=True,num_workers=N,\n",
    "                          collate_fn=data_collator, drop_last = True)\n",
    "val_loader = DataLoader(val_dataset, batch_size=BATCH_SIZE, shuffle=True, num_workers=N, \n",
    "                          collate_fn=data_collator, drop_last = True)\n",
    "test_loader = DataLoader(test_dataset, batch_size=BATCH_SIZE, shuffle=False, num_workers=N,\n",
    "                         collate_fn=data_collator, drop_last = False)"
   ],
   "metadata": {
    "execution": {
     "iopub.status.busy": "2023-12-05T15:23:01.547786Z",
     "iopub.execute_input": "2023-12-05T15:23:01.548645Z",
     "iopub.status.idle": "2023-12-05T15:23:01.554085Z",
     "shell.execute_reply.started": "2023-12-05T15:23:01.548619Z",
     "shell.execute_reply": "2023-12-05T15:23:01.553189Z"
    },
    "trusted": true
   },
   "execution_count": 29,
   "outputs": []
  },
  {
   "cell_type": "code",
   "source": [
    "batch = next(iter(train_loader))"
   ],
   "metadata": {
    "execution": {
     "iopub.status.busy": "2023-12-05T15:23:01.555252Z",
     "iopub.execute_input": "2023-12-05T15:23:01.555493Z",
     "iopub.status.idle": "2023-12-05T15:23:05.906739Z",
     "shell.execute_reply.started": "2023-12-05T15:23:01.555472Z",
     "shell.execute_reply": "2023-12-05T15:23:05.905972Z"
    },
    "trusted": true
   },
   "execution_count": 30,
   "outputs": []
  },
  {
   "cell_type": "code",
   "source": [
    "batch[0][:2]"
   ],
   "metadata": {
    "execution": {
     "iopub.status.busy": "2023-12-05T15:23:05.907941Z",
     "iopub.execute_input": "2023-12-05T15:23:05.908293Z",
     "iopub.status.idle": "2023-12-05T15:23:05.924578Z",
     "shell.execute_reply.started": "2023-12-05T15:23:05.908260Z",
     "shell.execute_reply": "2023-12-05T15:23:05.923710Z"
    },
    "trusted": true
   },
   "execution_count": 31,
   "outputs": [
    {
     "execution_count": 31,
     "output_type": "execute_result",
     "data": {
      "text/plain": "{'input_ids': tensor([[ 0, 40,  8, 42, 46, 14, 38, 44, 36, 38, 34, 18, 36, 30, 32,  8, 46, 48,\n          42,  8,  1,  4,  4,  4,  4],\n         [ 0, 40, 42, 38, 14, 48, 16, 26,  1,  4,  4,  4,  4,  4,  4,  4,  4,  4,\n           4,  4,  4,  4,  4,  4,  4]], device='cuda:0'),\n 'token_type_ids': tensor([[0, 0, 0, 0, 0, 0, 0, 0, 0, 0, 0, 0, 0, 0, 0, 0, 0, 0, 0, 0, 0, 0, 0, 0,\n          0],\n         [0, 0, 0, 0, 0, 0, 0, 0, 0, 0, 0, 0, 0, 0, 0, 0, 0, 0, 0, 0, 0, 0, 0, 0,\n          0]], device='cuda:0'),\n 'attention_mask': tensor([[1, 1, 1, 1, 1, 1, 1, 1, 1, 1, 1, 1, 1, 1, 1, 1, 1, 1, 1, 1, 1, 0, 0, 0,\n          0],\n         [1, 1, 1, 1, 1, 1, 1, 1, 1, 0, 0, 0, 0, 0, 0, 0, 0, 0, 0, 0, 0, 0, 0, 0,\n          0]], device='cuda:0')}"
     },
     "metadata": {}
    }
   ]
  },
  {
   "cell_type": "code",
   "source": [
    "batch[1][:2]"
   ],
   "metadata": {
    "execution": {
     "iopub.status.busy": "2023-12-05T15:23:05.925636Z",
     "iopub.execute_input": "2023-12-05T15:23:05.925864Z",
     "iopub.status.idle": "2023-12-05T15:23:05.963401Z",
     "shell.execute_reply.started": "2023-12-05T15:23:05.925843Z",
     "shell.execute_reply": "2023-12-05T15:23:05.962547Z"
    },
    "trusted": true
   },
   "execution_count": 32,
   "outputs": [
    {
     "execution_count": 32,
     "output_type": "execute_result",
     "data": {
      "text/plain": "tensor([[0., 0., 0., 0., 0., 1., 0., 0.],\n        [0., 0., 1., 0., 0., 0., 0., 0.]], device='cuda:0')"
     },
     "metadata": {}
    }
   ]
  },
  {
   "cell_type": "markdown",
   "source": [
    "## Тренировочный цикл"
   ],
   "metadata": {}
  },
  {
   "cell_type": "code",
   "source": [
    "from tqdm import tqdm\n",
    "import torch\n",
    "from torch.optim.lr_scheduler import StepLR\n",
    "from torch.nn.functional import softmax\n",
    "\n",
    "SAVE_PATH = \"model_params\"\n",
    "\n",
    "\n",
    "def train_loop(\n",
    "    model, train_dataloader, val_dataloader, \n",
    "    max_epochs=10, \n",
    "    lr=1e-5,\n",
    "    eval_steps = 10000\n",
    "):\n",
    "    optimizer = torch.optim.Adam(params = model.parameters(), lr=lr)\n",
    "    scheduler = StepLR(optimizer, step_size = 3, gamma=0.5)\n",
    "    best_f1 = float('-inf')\n",
    "    \n",
    "    for epoch in range(max_epochs):\n",
    "        print('EPOCH', epoch)\n",
    "        losses = list()\n",
    "        for i, (x, y) in tqdm(enumerate(train_dataloader)):\n",
    "#             inputs = [elem['input_ids'] for elem in x]\n",
    "#             attention_mask = [elem['attention_mask'] for elem in x]\n",
    "#             token_type_ids = [elem['token_type_ids'] for elem in x]\n",
    "            output = model(\n",
    "                input_ids=x.input_ids,\n",
    "                attention_mask=x.attention_mask,\n",
    "                token_type_ids=x.token_type_ids,\n",
    "                labels=y,\n",
    "                return_dict=True\n",
    "            )\n",
    "#             print(\"labels\", labels)\n",
    "#             print(\"output\", output)\n",
    "            loss = output.loss\n",
    "            \n",
    "            loss.backward()\n",
    "            optimizer.step()\n",
    "            optimizer.zero_grad()\n",
    "            \n",
    "            losses.append(loss.item())\n",
    "            \n",
    "            if i % eval_steps == 0:\n",
    "                model.eval()\n",
    "                train_loss = np.mean(losses[-eval_steps:])\n",
    "                eval_loss, eval_f1, eval_accuracy, _ = evaluate_model(model, val_dataloader)\n",
    "                if eval_f1 > best_f1:\n",
    "                    best_f1 = eval_f1\n",
    "                    torch.save(model.state_dict(), SAVE_PATH)\n",
    "                print(f'step {i} train_loss: {train_loss:.3} eval_loss: {eval_loss:.3} eval_f1: {eval_f1:.3} eval_accuracy: {eval_accuracy:.3}')\n",
    "                model.train()\n",
    "        scheduler.step()"
   ],
   "metadata": {
    "execution": {
     "iopub.status.busy": "2023-12-05T15:23:05.964418Z",
     "iopub.execute_input": "2023-12-05T15:23:05.964682Z",
     "iopub.status.idle": "2023-12-05T15:23:05.974873Z",
     "shell.execute_reply.started": "2023-12-05T15:23:05.964659Z",
     "shell.execute_reply": "2023-12-05T15:23:05.974049Z"
    },
    "trusted": true
   },
   "execution_count": 33,
   "outputs": []
  },
  {
   "cell_type": "code",
   "source": [
    "from sklearn.metrics import f1_score, accuracy_score\n",
    "\n",
    "\n",
    "def evaluate_model(model, test_dataloader):\n",
    "    num = 0\n",
    "    den = 0\n",
    "    y_true = list()\n",
    "    y_pred = list()\n",
    "    y_pred_prob = list()\n",
    "    f1_valid = .0\n",
    "    for x, y in test_dataloader:\n",
    "        with torch.no_grad():\n",
    "            output = model(\n",
    "                input_ids=x.input_ids,\n",
    "                attention_mask=x.attention_mask,\n",
    "                token_type_ids=x.token_type_ids,\n",
    "                labels=y,\n",
    "                return_dict=True\n",
    "            )\n",
    "            loss = output.loss\n",
    "            \n",
    "            num += len(x) * loss.item()\n",
    "            den += len(x)\n",
    "            \n",
    "            y_pred.extend(torch.argmax(output.logits, 1).tolist())\n",
    "            y_pred_prob.extend(softmax(output.logits, dim = 1)[:, 1].tolist())\n",
    "            y_true.extend(torch.argmax(y, 1).tolist())\n",
    "            \n",
    "    val_loss = num / den\n",
    "    f1_valid = f1_score(y_true, y_pred, average = 'micro')\n",
    "    accuracy_valid = accuracy_score(y_true, y_pred)\n",
    "    return val_loss, f1_valid, accuracy_valid, y_pred_prob"
   ],
   "metadata": {
    "execution": {
     "iopub.status.busy": "2023-12-05T15:23:05.975937Z",
     "iopub.execute_input": "2023-12-05T15:23:05.976224Z",
     "iopub.status.idle": "2023-12-05T15:23:06.069184Z",
     "shell.execute_reply.started": "2023-12-05T15:23:05.976201Z",
     "shell.execute_reply": "2023-12-05T15:23:06.068206Z"
    },
    "trusted": true
   },
   "execution_count": 34,
   "outputs": []
  },
  {
   "cell_type": "markdown",
   "source": [
    "## Подгрузим модель"
   ],
   "metadata": {}
  },
  {
   "cell_type": "code",
   "source": [
    "from transformers import BertForSequenceClassification, DebertaV2ForTokenClassification, DebertaV2Config\n",
    "\n",
    "\n",
    "# encoder =  BertGenerationEncoder.from_pretrained(\"bert-large-uncased\", bos_token_id=0, eos_token_id=1)\n",
    "# decoder = BertGenerationDecoder.from_pretrained(\"bert-l-uncased\", add_cross_attention=True, is_decoder=True,\n",
    "#                                                bos_token_id=0, eos_token_id=1)\n",
    "\n",
    "# configuration = DebertaV2Config()\n",
    "\n",
    "model = BertForSequenceClassification.from_pretrained(\"bert-base-multilingual-uncased\", problem_type=\"multi_label_classification\", num_labels=number_of_classes).cuda()"
   ],
   "metadata": {
    "execution": {
     "iopub.status.busy": "2023-12-05T15:23:06.070408Z",
     "iopub.execute_input": "2023-12-05T15:23:06.070765Z",
     "iopub.status.idle": "2023-12-05T15:23:26.502341Z",
     "shell.execute_reply.started": "2023-12-05T15:23:06.070732Z",
     "shell.execute_reply": "2023-12-05T15:23:26.501360Z"
    },
    "trusted": true
   },
   "execution_count": 35,
   "outputs": [
    {
     "output_type": "display_data",
     "data": {
      "text/plain": "Downloading config.json:   0%|          | 0.00/625 [00:00<?, ?B/s]",
      "application/vnd.jupyter.widget-view+json": {
       "version_major": 2,
       "version_minor": 0,
       "model_id": "6f6d96141f0c470c924a1439b99ea9ce"
      }
     },
     "metadata": {}
    },
    {
     "output_type": "display_data",
     "data": {
      "text/plain": "Downloading model.safetensors:   0%|          | 0.00/672M [00:00<?, ?B/s]",
      "application/vnd.jupyter.widget-view+json": {
       "version_major": 2,
       "version_minor": 0,
       "model_id": "1d6c31c5a89c4fe3ac5c51fc41623e8d"
      }
     },
     "metadata": {}
    },
    {
     "name": "stderr",
     "text": "Some weights of BertForSequenceClassification were not initialized from the model checkpoint at bert-base-multilingual-uncased and are newly initialized: ['classifier.bias', 'classifier.weight']\nYou should probably TRAIN this model on a down-stream task to be able to use it for predictions and inference.\n",
     "output_type": "stream"
    }
   ]
  },
  {
   "cell_type": "markdown",
   "source": [
    "# Цикл обучения"
   ],
   "metadata": {}
  },
  {
   "cell_type": "code",
   "source": [
    "EPOCHS = 40\n",
    "\n",
    "train_loop(model, train_loader, val_loader, max_epochs=EPOCHS, lr=8e-5, eval_steps=40)"
   ],
   "metadata": {
    "execution": {
     "iopub.status.busy": "2023-12-05T15:23:26.503355Z",
     "iopub.execute_input": "2023-12-05T15:23:26.503615Z",
     "iopub.status.idle": "2023-12-05T15:49:16.988085Z",
     "shell.execute_reply.started": "2023-12-05T15:23:26.503591Z",
     "shell.execute_reply": "2023-12-05T15:49:16.987064Z"
    },
    "trusted": true
   },
   "execution_count": 36,
   "outputs": [
    {
     "name": "stdout",
     "text": "EPOCH 0\n",
     "output_type": "stream"
    },
    {
     "name": "stderr",
     "text": "1it [00:04,  4.68s/it]",
     "output_type": "stream"
    },
    {
     "name": "stdout",
     "text": "step 0 train_loss: 0.674 eval_loss: 0.617 eval_f1: 0.0831 eval_accuracy: 0.0831\n",
     "output_type": "stream"
    },
    {
     "name": "stderr",
     "text": "41it [00:20,  1.17s/it]",
     "output_type": "stream"
    },
    {
     "name": "stdout",
     "text": "step 40 train_loss: 0.379 eval_loss: 0.319 eval_f1: 0.262 eval_accuracy: 0.262\n",
     "output_type": "stream"
    },
    {
     "name": "stderr",
     "text": "81it [00:37,  1.19s/it]",
     "output_type": "stream"
    },
    {
     "name": "stdout",
     "text": "step 80 train_loss: 0.314 eval_loss: 0.288 eval_f1: 0.396 eval_accuracy: 0.396\n",
     "output_type": "stream"
    },
    {
     "name": "stderr",
     "text": "101it [00:43,  2.30it/s]\n",
     "output_type": "stream"
    },
    {
     "name": "stdout",
     "text": "EPOCH 1\n",
     "output_type": "stream"
    },
    {
     "name": "stderr",
     "text": "1it [00:01,  1.59s/it]",
     "output_type": "stream"
    },
    {
     "name": "stdout",
     "text": "step 0 train_loss: 0.282 eval_loss: 0.295 eval_f1: 0.368 eval_accuracy: 0.368\n",
     "output_type": "stream"
    },
    {
     "name": "stderr",
     "text": "41it [00:17,  1.13s/it]",
     "output_type": "stream"
    },
    {
     "name": "stdout",
     "text": "step 40 train_loss: 0.273 eval_loss: 0.272 eval_f1: 0.428 eval_accuracy: 0.428\n",
     "output_type": "stream"
    },
    {
     "name": "stderr",
     "text": "81it [00:33,  1.14s/it]",
     "output_type": "stream"
    },
    {
     "name": "stdout",
     "text": "step 80 train_loss: 0.257 eval_loss: 0.25 eval_f1: 0.469 eval_accuracy: 0.469\n",
     "output_type": "stream"
    },
    {
     "name": "stderr",
     "text": "101it [00:40,  2.48it/s]\n",
     "output_type": "stream"
    },
    {
     "name": "stdout",
     "text": "EPOCH 2\n",
     "output_type": "stream"
    },
    {
     "name": "stderr",
     "text": "1it [00:03,  3.04s/it]",
     "output_type": "stream"
    },
    {
     "name": "stdout",
     "text": "step 0 train_loss: 0.244 eval_loss: 0.251 eval_f1: 0.491 eval_accuracy: 0.491\n",
     "output_type": "stream"
    },
    {
     "name": "stderr",
     "text": "41it [00:19,  1.13s/it]",
     "output_type": "stream"
    },
    {
     "name": "stdout",
     "text": "step 40 train_loss: 0.24 eval_loss: 0.222 eval_f1: 0.569 eval_accuracy: 0.569\n",
     "output_type": "stream"
    },
    {
     "name": "stderr",
     "text": "81it [00:33,  1.40it/s]",
     "output_type": "stream"
    },
    {
     "name": "stdout",
     "text": "step 80 train_loss: 0.225 eval_loss: 0.217 eval_f1: 0.551 eval_accuracy: 0.551\n",
     "output_type": "stream"
    },
    {
     "name": "stderr",
     "text": "101it [00:40,  2.50it/s]\n",
     "output_type": "stream"
    },
    {
     "name": "stdout",
     "text": "EPOCH 3\n",
     "output_type": "stream"
    },
    {
     "name": "stderr",
     "text": "1it [00:02,  2.96s/it]",
     "output_type": "stream"
    },
    {
     "name": "stdout",
     "text": "step 0 train_loss: 0.238 eval_loss: 0.211 eval_f1: 0.575 eval_accuracy: 0.575\n",
     "output_type": "stream"
    },
    {
     "name": "stderr",
     "text": "41it [00:19,  1.15s/it]",
     "output_type": "stream"
    },
    {
     "name": "stdout",
     "text": "step 40 train_loss: 0.211 eval_loss: 0.194 eval_f1: 0.629 eval_accuracy: 0.629\n",
     "output_type": "stream"
    },
    {
     "name": "stderr",
     "text": "81it [00:35,  1.11s/it]",
     "output_type": "stream"
    },
    {
     "name": "stdout",
     "text": "step 80 train_loss: 0.202 eval_loss: 0.189 eval_f1: 0.638 eval_accuracy: 0.638\n",
     "output_type": "stream"
    },
    {
     "name": "stderr",
     "text": "101it [00:42,  2.40it/s]\n",
     "output_type": "stream"
    },
    {
     "name": "stdout",
     "text": "EPOCH 4\n",
     "output_type": "stream"
    },
    {
     "name": "stderr",
     "text": "1it [00:03,  3.00s/it]",
     "output_type": "stream"
    },
    {
     "name": "stdout",
     "text": "step 0 train_loss: 0.196 eval_loss: 0.191 eval_f1: 0.654 eval_accuracy: 0.654\n",
     "output_type": "stream"
    },
    {
     "name": "stderr",
     "text": "41it [00:19,  1.13s/it]",
     "output_type": "stream"
    },
    {
     "name": "stdout",
     "text": "step 40 train_loss: 0.198 eval_loss: 0.178 eval_f1: 0.679 eval_accuracy: 0.679\n",
     "output_type": "stream"
    },
    {
     "name": "stderr",
     "text": "81it [00:33,  1.42it/s]",
     "output_type": "stream"
    },
    {
     "name": "stdout",
     "text": "step 80 train_loss: 0.194 eval_loss: 0.191 eval_f1: 0.656 eval_accuracy: 0.656\n",
     "output_type": "stream"
    },
    {
     "name": "stderr",
     "text": "101it [00:40,  2.49it/s]\n",
     "output_type": "stream"
    },
    {
     "name": "stdout",
     "text": "EPOCH 5\n",
     "output_type": "stream"
    },
    {
     "name": "stderr",
     "text": "1it [00:01,  1.52s/it]",
     "output_type": "stream"
    },
    {
     "name": "stdout",
     "text": "step 0 train_loss: 0.181 eval_loss: 0.197 eval_f1: 0.631 eval_accuracy: 0.631\n",
     "output_type": "stream"
    },
    {
     "name": "stderr",
     "text": "41it [00:17,  1.11s/it]",
     "output_type": "stream"
    },
    {
     "name": "stdout",
     "text": "step 40 train_loss: 0.185 eval_loss: 0.177 eval_f1: 0.691 eval_accuracy: 0.691\n",
     "output_type": "stream"
    },
    {
     "name": "stderr",
     "text": "81it [00:32,  1.42it/s]",
     "output_type": "stream"
    },
    {
     "name": "stdout",
     "text": "step 80 train_loss: 0.177 eval_loss: 0.186 eval_f1: 0.665 eval_accuracy: 0.665\n",
     "output_type": "stream"
    },
    {
     "name": "stderr",
     "text": "101it [00:39,  2.58it/s]\n",
     "output_type": "stream"
    },
    {
     "name": "stdout",
     "text": "EPOCH 6\n",
     "output_type": "stream"
    },
    {
     "name": "stderr",
     "text": "1it [00:02,  2.98s/it]",
     "output_type": "stream"
    },
    {
     "name": "stdout",
     "text": "step 0 train_loss: 0.166 eval_loss: 0.163 eval_f1: 0.712 eval_accuracy: 0.712\n",
     "output_type": "stream"
    },
    {
     "name": "stderr",
     "text": "41it [00:19,  1.13s/it]",
     "output_type": "stream"
    },
    {
     "name": "stdout",
     "text": "step 40 train_loss: 0.167 eval_loss: 0.157 eval_f1: 0.736 eval_accuracy: 0.736\n",
     "output_type": "stream"
    },
    {
     "name": "stderr",
     "text": "81it [00:33,  1.39it/s]",
     "output_type": "stream"
    },
    {
     "name": "stdout",
     "text": "step 80 train_loss: 0.162 eval_loss: 0.163 eval_f1: 0.726 eval_accuracy: 0.726\n",
     "output_type": "stream"
    },
    {
     "name": "stderr",
     "text": "101it [00:40,  2.51it/s]\n",
     "output_type": "stream"
    },
    {
     "name": "stdout",
     "text": "EPOCH 7\n",
     "output_type": "stream"
    },
    {
     "name": "stderr",
     "text": "1it [00:01,  1.54s/it]",
     "output_type": "stream"
    },
    {
     "name": "stdout",
     "text": "step 0 train_loss: 0.163 eval_loss: 0.162 eval_f1: 0.728 eval_accuracy: 0.728\n",
     "output_type": "stream"
    },
    {
     "name": "stderr",
     "text": "41it [00:17,  1.13s/it]",
     "output_type": "stream"
    },
    {
     "name": "stdout",
     "text": "step 40 train_loss: 0.155 eval_loss: 0.155 eval_f1: 0.754 eval_accuracy: 0.754\n",
     "output_type": "stream"
    },
    {
     "name": "stderr",
     "text": "81it [00:33,  1.14s/it]",
     "output_type": "stream"
    },
    {
     "name": "stdout",
     "text": "step 80 train_loss: 0.156 eval_loss: 0.143 eval_f1: 0.756 eval_accuracy: 0.756\n",
     "output_type": "stream"
    },
    {
     "name": "stderr",
     "text": "101it [00:40,  2.51it/s]\n",
     "output_type": "stream"
    },
    {
     "name": "stdout",
     "text": "EPOCH 8\n",
     "output_type": "stream"
    },
    {
     "name": "stderr",
     "text": "1it [00:02,  2.96s/it]",
     "output_type": "stream"
    },
    {
     "name": "stdout",
     "text": "step 0 train_loss: 0.155 eval_loss: 0.146 eval_f1: 0.761 eval_accuracy: 0.761\n",
     "output_type": "stream"
    },
    {
     "name": "stderr",
     "text": "41it [00:17,  1.42it/s]",
     "output_type": "stream"
    },
    {
     "name": "stdout",
     "text": "step 40 train_loss: 0.154 eval_loss: 0.154 eval_f1: 0.746 eval_accuracy: 0.746\n",
     "output_type": "stream"
    },
    {
     "name": "stderr",
     "text": "81it [00:32,  1.43it/s]",
     "output_type": "stream"
    },
    {
     "name": "stdout",
     "text": "step 80 train_loss: 0.155 eval_loss: 0.148 eval_f1: 0.758 eval_accuracy: 0.758\n",
     "output_type": "stream"
    },
    {
     "name": "stderr",
     "text": "101it [00:39,  2.59it/s]\n",
     "output_type": "stream"
    },
    {
     "name": "stdout",
     "text": "EPOCH 9\n",
     "output_type": "stream"
    },
    {
     "name": "stderr",
     "text": "1it [00:01,  1.62s/it]",
     "output_type": "stream"
    },
    {
     "name": "stdout",
     "text": "step 0 train_loss: 0.159 eval_loss: 0.145 eval_f1: 0.757 eval_accuracy: 0.757\n",
     "output_type": "stream"
    },
    {
     "name": "stderr",
     "text": "41it [00:16,  1.42it/s]",
     "output_type": "stream"
    },
    {
     "name": "stdout",
     "text": "step 40 train_loss: 0.144 eval_loss: 0.145 eval_f1: 0.759 eval_accuracy: 0.759\n",
     "output_type": "stream"
    },
    {
     "name": "stderr",
     "text": "81it [00:32,  1.14s/it]",
     "output_type": "stream"
    },
    {
     "name": "stdout",
     "text": "step 80 train_loss: 0.142 eval_loss: 0.139 eval_f1: 0.774 eval_accuracy: 0.774\n",
     "output_type": "stream"
    },
    {
     "name": "stderr",
     "text": "101it [00:39,  2.58it/s]\n",
     "output_type": "stream"
    },
    {
     "name": "stdout",
     "text": "EPOCH 10\n",
     "output_type": "stream"
    },
    {
     "name": "stderr",
     "text": "1it [00:03,  3.07s/it]",
     "output_type": "stream"
    },
    {
     "name": "stdout",
     "text": "step 0 train_loss: 0.133 eval_loss: 0.137 eval_f1: 0.775 eval_accuracy: 0.775\n",
     "output_type": "stream"
    },
    {
     "name": "stderr",
     "text": "41it [00:19,  1.13s/it]",
     "output_type": "stream"
    },
    {
     "name": "stdout",
     "text": "step 40 train_loss: 0.136 eval_loss: 0.138 eval_f1: 0.776 eval_accuracy: 0.776\n",
     "output_type": "stream"
    },
    {
     "name": "stderr",
     "text": "81it [00:35,  1.11s/it]",
     "output_type": "stream"
    },
    {
     "name": "stdout",
     "text": "step 80 train_loss: 0.141 eval_loss: 0.135 eval_f1: 0.778 eval_accuracy: 0.778\n",
     "output_type": "stream"
    },
    {
     "name": "stderr",
     "text": "101it [00:41,  2.41it/s]\n",
     "output_type": "stream"
    },
    {
     "name": "stdout",
     "text": "EPOCH 11\n",
     "output_type": "stream"
    },
    {
     "name": "stderr",
     "text": "1it [00:01,  1.59s/it]",
     "output_type": "stream"
    },
    {
     "name": "stdout",
     "text": "step 0 train_loss: 0.145 eval_loss: 0.136 eval_f1: 0.778 eval_accuracy: 0.778\n",
     "output_type": "stream"
    },
    {
     "name": "stderr",
     "text": "41it [00:17,  1.12s/it]",
     "output_type": "stream"
    },
    {
     "name": "stdout",
     "text": "step 40 train_loss: 0.134 eval_loss: 0.132 eval_f1: 0.785 eval_accuracy: 0.785\n",
     "output_type": "stream"
    },
    {
     "name": "stderr",
     "text": "81it [00:32,  1.41it/s]",
     "output_type": "stream"
    },
    {
     "name": "stdout",
     "text": "step 80 train_loss: 0.133 eval_loss: 0.136 eval_f1: 0.778 eval_accuracy: 0.778\n",
     "output_type": "stream"
    },
    {
     "name": "stderr",
     "text": "101it [00:39,  2.58it/s]\n",
     "output_type": "stream"
    },
    {
     "name": "stdout",
     "text": "EPOCH 12\n",
     "output_type": "stream"
    },
    {
     "name": "stderr",
     "text": "1it [00:01,  1.57s/it]",
     "output_type": "stream"
    },
    {
     "name": "stdout",
     "text": "step 0 train_loss: 0.144 eval_loss: 0.136 eval_f1: 0.776 eval_accuracy: 0.776\n",
     "output_type": "stream"
    },
    {
     "name": "stderr",
     "text": "41it [00:16,  1.43it/s]",
     "output_type": "stream"
    },
    {
     "name": "stdout",
     "text": "step 40 train_loss: 0.131 eval_loss: 0.132 eval_f1: 0.785 eval_accuracy: 0.785\n",
     "output_type": "stream"
    },
    {
     "name": "stderr",
     "text": "81it [00:32,  1.14s/it]",
     "output_type": "stream"
    },
    {
     "name": "stdout",
     "text": "step 80 train_loss: 0.127 eval_loss: 0.131 eval_f1: 0.792 eval_accuracy: 0.792\n",
     "output_type": "stream"
    },
    {
     "name": "stderr",
     "text": "101it [00:39,  2.56it/s]\n",
     "output_type": "stream"
    },
    {
     "name": "stdout",
     "text": "EPOCH 13\n",
     "output_type": "stream"
    },
    {
     "name": "stderr",
     "text": "1it [00:01,  1.53s/it]",
     "output_type": "stream"
    },
    {
     "name": "stdout",
     "text": "step 0 train_loss: 0.12 eval_loss: 0.133 eval_f1: 0.786 eval_accuracy: 0.786\n",
     "output_type": "stream"
    },
    {
     "name": "stderr",
     "text": "41it [00:16,  1.41it/s]",
     "output_type": "stream"
    },
    {
     "name": "stdout",
     "text": "step 40 train_loss: 0.127 eval_loss: 0.131 eval_f1: 0.792 eval_accuracy: 0.792\n",
     "output_type": "stream"
    },
    {
     "name": "stderr",
     "text": "81it [00:30,  1.39it/s]",
     "output_type": "stream"
    },
    {
     "name": "stdout",
     "text": "step 80 train_loss: 0.127 eval_loss: 0.13 eval_f1: 0.786 eval_accuracy: 0.786\n",
     "output_type": "stream"
    },
    {
     "name": "stderr",
     "text": "101it [00:37,  2.69it/s]\n",
     "output_type": "stream"
    },
    {
     "name": "stdout",
     "text": "EPOCH 14\n",
     "output_type": "stream"
    },
    {
     "name": "stderr",
     "text": "1it [00:01,  1.71s/it]",
     "output_type": "stream"
    },
    {
     "name": "stdout",
     "text": "step 0 train_loss: 0.109 eval_loss: 0.13 eval_f1: 0.789 eval_accuracy: 0.789\n",
     "output_type": "stream"
    },
    {
     "name": "stderr",
     "text": "41it [00:17,  1.13s/it]",
     "output_type": "stream"
    },
    {
     "name": "stdout",
     "text": "step 40 train_loss: 0.125 eval_loss: 0.127 eval_f1: 0.803 eval_accuracy: 0.803\n",
     "output_type": "stream"
    },
    {
     "name": "stderr",
     "text": "81it [00:32,  1.42it/s]",
     "output_type": "stream"
    },
    {
     "name": "stdout",
     "text": "step 80 train_loss: 0.125 eval_loss: 0.129 eval_f1: 0.789 eval_accuracy: 0.789\n",
     "output_type": "stream"
    },
    {
     "name": "stderr",
     "text": "101it [00:39,  2.58it/s]\n",
     "output_type": "stream"
    },
    {
     "name": "stdout",
     "text": "EPOCH 15\n",
     "output_type": "stream"
    },
    {
     "name": "stderr",
     "text": "1it [00:01,  1.59s/it]",
     "output_type": "stream"
    },
    {
     "name": "stdout",
     "text": "step 0 train_loss: 0.106 eval_loss: 0.128 eval_f1: 0.795 eval_accuracy: 0.795\n",
     "output_type": "stream"
    },
    {
     "name": "stderr",
     "text": "41it [00:16,  1.43it/s]",
     "output_type": "stream"
    },
    {
     "name": "stdout",
     "text": "step 40 train_loss: 0.121 eval_loss: 0.127 eval_f1: 0.796 eval_accuracy: 0.796\n",
     "output_type": "stream"
    },
    {
     "name": "stderr",
     "text": "81it [00:30,  1.35it/s]",
     "output_type": "stream"
    },
    {
     "name": "stdout",
     "text": "step 80 train_loss: 0.122 eval_loss: 0.126 eval_f1: 0.801 eval_accuracy: 0.801\n",
     "output_type": "stream"
    },
    {
     "name": "stderr",
     "text": "101it [00:37,  2.68it/s]\n",
     "output_type": "stream"
    },
    {
     "name": "stdout",
     "text": "EPOCH 16\n",
     "output_type": "stream"
    },
    {
     "name": "stderr",
     "text": "1it [00:01,  1.57s/it]",
     "output_type": "stream"
    },
    {
     "name": "stdout",
     "text": "step 0 train_loss: 0.122 eval_loss: 0.13 eval_f1: 0.791 eval_accuracy: 0.791\n",
     "output_type": "stream"
    },
    {
     "name": "stderr",
     "text": "41it [00:16,  1.43it/s]",
     "output_type": "stream"
    },
    {
     "name": "stdout",
     "text": "step 40 train_loss: 0.119 eval_loss: 0.126 eval_f1: 0.794 eval_accuracy: 0.794\n",
     "output_type": "stream"
    },
    {
     "name": "stderr",
     "text": "81it [00:30,  1.42it/s]",
     "output_type": "stream"
    },
    {
     "name": "stdout",
     "text": "step 80 train_loss: 0.121 eval_loss: 0.126 eval_f1: 0.802 eval_accuracy: 0.802\n",
     "output_type": "stream"
    },
    {
     "name": "stderr",
     "text": "101it [00:37,  2.68it/s]\n",
     "output_type": "stream"
    },
    {
     "name": "stdout",
     "text": "EPOCH 17\n",
     "output_type": "stream"
    },
    {
     "name": "stderr",
     "text": "1it [00:01,  1.57s/it]",
     "output_type": "stream"
    },
    {
     "name": "stdout",
     "text": "step 0 train_loss: 0.115 eval_loss: 0.126 eval_f1: 0.8 eval_accuracy: 0.8\n",
     "output_type": "stream"
    },
    {
     "name": "stderr",
     "text": "41it [00:16,  1.40it/s]",
     "output_type": "stream"
    },
    {
     "name": "stdout",
     "text": "step 40 train_loss: 0.118 eval_loss: 0.127 eval_f1: 0.795 eval_accuracy: 0.795\n",
     "output_type": "stream"
    },
    {
     "name": "stderr",
     "text": "81it [00:31,  1.44it/s]",
     "output_type": "stream"
    },
    {
     "name": "stdout",
     "text": "step 80 train_loss: 0.117 eval_loss: 0.128 eval_f1: 0.793 eval_accuracy: 0.793\n",
     "output_type": "stream"
    },
    {
     "name": "stderr",
     "text": "101it [00:37,  2.67it/s]\n",
     "output_type": "stream"
    },
    {
     "name": "stdout",
     "text": "EPOCH 18\n",
     "output_type": "stream"
    },
    {
     "name": "stderr",
     "text": "1it [00:03,  3.02s/it]",
     "output_type": "stream"
    },
    {
     "name": "stdout",
     "text": "step 0 train_loss: 0.116 eval_loss: 0.123 eval_f1: 0.804 eval_accuracy: 0.804\n",
     "output_type": "stream"
    },
    {
     "name": "stderr",
     "text": "41it [00:17,  1.38it/s]",
     "output_type": "stream"
    },
    {
     "name": "stdout",
     "text": "step 40 train_loss: 0.119 eval_loss: 0.125 eval_f1: 0.799 eval_accuracy: 0.799\n",
     "output_type": "stream"
    },
    {
     "name": "stderr",
     "text": "81it [00:32,  1.42it/s]",
     "output_type": "stream"
    },
    {
     "name": "stdout",
     "text": "step 80 train_loss: 0.117 eval_loss: 0.124 eval_f1: 0.801 eval_accuracy: 0.801\n",
     "output_type": "stream"
    },
    {
     "name": "stderr",
     "text": "101it [00:39,  2.57it/s]\n",
     "output_type": "stream"
    },
    {
     "name": "stdout",
     "text": "EPOCH 19\n",
     "output_type": "stream"
    },
    {
     "name": "stderr",
     "text": "1it [00:01,  1.57s/it]",
     "output_type": "stream"
    },
    {
     "name": "stdout",
     "text": "step 0 train_loss: 0.118 eval_loss: 0.125 eval_f1: 0.8 eval_accuracy: 0.8\n",
     "output_type": "stream"
    },
    {
     "name": "stderr",
     "text": "41it [00:16,  1.39it/s]",
     "output_type": "stream"
    },
    {
     "name": "stdout",
     "text": "step 40 train_loss: 0.119 eval_loss: 0.124 eval_f1: 0.8 eval_accuracy: 0.8\n",
     "output_type": "stream"
    },
    {
     "name": "stderr",
     "text": "81it [00:30,  1.42it/s]",
     "output_type": "stream"
    },
    {
     "name": "stdout",
     "text": "step 80 train_loss: 0.116 eval_loss: 0.126 eval_f1: 0.795 eval_accuracy: 0.795\n",
     "output_type": "stream"
    },
    {
     "name": "stderr",
     "text": "101it [00:37,  2.67it/s]\n",
     "output_type": "stream"
    },
    {
     "name": "stdout",
     "text": "EPOCH 20\n",
     "output_type": "stream"
    },
    {
     "name": "stderr",
     "text": "1it [00:01,  1.54s/it]",
     "output_type": "stream"
    },
    {
     "name": "stdout",
     "text": "step 0 train_loss: 0.107 eval_loss: 0.126 eval_f1: 0.799 eval_accuracy: 0.799\n",
     "output_type": "stream"
    },
    {
     "name": "stderr",
     "text": "41it [00:16,  1.42it/s]",
     "output_type": "stream"
    },
    {
     "name": "stdout",
     "text": "step 40 train_loss: 0.116 eval_loss: 0.123 eval_f1: 0.803 eval_accuracy: 0.803\n",
     "output_type": "stream"
    },
    {
     "name": "stderr",
     "text": "81it [00:32,  1.12s/it]",
     "output_type": "stream"
    },
    {
     "name": "stdout",
     "text": "step 80 train_loss: 0.118 eval_loss: 0.124 eval_f1: 0.806 eval_accuracy: 0.806\n",
     "output_type": "stream"
    },
    {
     "name": "stderr",
     "text": "101it [00:39,  2.58it/s]\n",
     "output_type": "stream"
    },
    {
     "name": "stdout",
     "text": "EPOCH 21\n",
     "output_type": "stream"
    },
    {
     "name": "stderr",
     "text": "1it [00:01,  1.56s/it]",
     "output_type": "stream"
    },
    {
     "name": "stdout",
     "text": "step 0 train_loss: 0.0989 eval_loss: 0.125 eval_f1: 0.803 eval_accuracy: 0.803\n",
     "output_type": "stream"
    },
    {
     "name": "stderr",
     "text": "41it [00:16,  1.42it/s]",
     "output_type": "stream"
    },
    {
     "name": "stdout",
     "text": "step 40 train_loss: 0.118 eval_loss: 0.126 eval_f1: 0.793 eval_accuracy: 0.793\n",
     "output_type": "stream"
    },
    {
     "name": "stderr",
     "text": "81it [00:30,  1.41it/s]",
     "output_type": "stream"
    },
    {
     "name": "stdout",
     "text": "step 80 train_loss: 0.118 eval_loss: 0.125 eval_f1: 0.802 eval_accuracy: 0.802\n",
     "output_type": "stream"
    },
    {
     "name": "stderr",
     "text": "101it [00:37,  2.67it/s]\n",
     "output_type": "stream"
    },
    {
     "name": "stdout",
     "text": "EPOCH 22\n",
     "output_type": "stream"
    },
    {
     "name": "stderr",
     "text": "1it [00:01,  1.57s/it]",
     "output_type": "stream"
    },
    {
     "name": "stdout",
     "text": "step 0 train_loss: 0.106 eval_loss: 0.124 eval_f1: 0.804 eval_accuracy: 0.804\n",
     "output_type": "stream"
    },
    {
     "name": "stderr",
     "text": "41it [00:16,  1.42it/s]",
     "output_type": "stream"
    },
    {
     "name": "stdout",
     "text": "step 40 train_loss: 0.115 eval_loss: 0.124 eval_f1: 0.804 eval_accuracy: 0.804\n",
     "output_type": "stream"
    },
    {
     "name": "stderr",
     "text": "81it [00:30,  1.42it/s]",
     "output_type": "stream"
    },
    {
     "name": "stdout",
     "text": "step 80 train_loss: 0.116 eval_loss: 0.124 eval_f1: 0.799 eval_accuracy: 0.799\n",
     "output_type": "stream"
    },
    {
     "name": "stderr",
     "text": "101it [00:37,  2.69it/s]\n",
     "output_type": "stream"
    },
    {
     "name": "stdout",
     "text": "EPOCH 23\n",
     "output_type": "stream"
    },
    {
     "name": "stderr",
     "text": "1it [00:01,  1.59s/it]",
     "output_type": "stream"
    },
    {
     "name": "stdout",
     "text": "step 0 train_loss: 0.107 eval_loss: 0.123 eval_f1: 0.802 eval_accuracy: 0.802\n",
     "output_type": "stream"
    },
    {
     "name": "stderr",
     "text": "41it [00:16,  1.42it/s]",
     "output_type": "stream"
    },
    {
     "name": "stdout",
     "text": "step 40 train_loss: 0.114 eval_loss: 0.123 eval_f1: 0.802 eval_accuracy: 0.802\n",
     "output_type": "stream"
    },
    {
     "name": "stderr",
     "text": "81it [00:31,  1.42it/s]",
     "output_type": "stream"
    },
    {
     "name": "stdout",
     "text": "step 80 train_loss: 0.117 eval_loss: 0.124 eval_f1: 0.795 eval_accuracy: 0.795\n",
     "output_type": "stream"
    },
    {
     "name": "stderr",
     "text": "101it [00:37,  2.66it/s]\n",
     "output_type": "stream"
    },
    {
     "name": "stdout",
     "text": "EPOCH 24\n",
     "output_type": "stream"
    },
    {
     "name": "stderr",
     "text": "1it [00:01,  1.56s/it]",
     "output_type": "stream"
    },
    {
     "name": "stdout",
     "text": "step 0 train_loss: 0.11 eval_loss: 0.124 eval_f1: 0.797 eval_accuracy: 0.797\n",
     "output_type": "stream"
    },
    {
     "name": "stderr",
     "text": "41it [00:16,  1.39it/s]",
     "output_type": "stream"
    },
    {
     "name": "stdout",
     "text": "step 40 train_loss: 0.113 eval_loss: 0.124 eval_f1: 0.8 eval_accuracy: 0.8\n",
     "output_type": "stream"
    },
    {
     "name": "stderr",
     "text": "81it [00:31,  1.40it/s]",
     "output_type": "stream"
    },
    {
     "name": "stdout",
     "text": "step 80 train_loss: 0.115 eval_loss: 0.124 eval_f1: 0.8 eval_accuracy: 0.8\n",
     "output_type": "stream"
    },
    {
     "name": "stderr",
     "text": "101it [00:37,  2.67it/s]\n",
     "output_type": "stream"
    },
    {
     "name": "stdout",
     "text": "EPOCH 25\n",
     "output_type": "stream"
    },
    {
     "name": "stderr",
     "text": "1it [00:01,  1.53s/it]",
     "output_type": "stream"
    },
    {
     "name": "stdout",
     "text": "step 0 train_loss: 0.119 eval_loss: 0.126 eval_f1: 0.795 eval_accuracy: 0.795\n",
     "output_type": "stream"
    },
    {
     "name": "stderr",
     "text": "81it [00:31,  1.40it/s]",
     "output_type": "stream"
    },
    {
     "name": "stdout",
     "text": "step 80 train_loss: 0.114 eval_loss: 0.124 eval_f1: 0.799 eval_accuracy: 0.799\n",
     "output_type": "stream"
    },
    {
     "name": "stderr",
     "text": "101it [00:37,  2.66it/s]\n",
     "output_type": "stream"
    },
    {
     "name": "stdout",
     "text": "EPOCH 26\n",
     "output_type": "stream"
    },
    {
     "name": "stderr",
     "text": "1it [00:01,  1.55s/it]",
     "output_type": "stream"
    },
    {
     "name": "stdout",
     "text": "step 0 train_loss: 0.125 eval_loss: 0.123 eval_f1: 0.8 eval_accuracy: 0.8\n",
     "output_type": "stream"
    },
    {
     "name": "stderr",
     "text": "41it [00:16,  1.41it/s]",
     "output_type": "stream"
    },
    {
     "name": "stdout",
     "text": "step 40 train_loss: 0.114 eval_loss: 0.125 eval_f1: 0.798 eval_accuracy: 0.798\n",
     "output_type": "stream"
    },
    {
     "name": "stderr",
     "text": "81it [00:31,  1.42it/s]",
     "output_type": "stream"
    },
    {
     "name": "stdout",
     "text": "step 80 train_loss: 0.113 eval_loss: 0.124 eval_f1: 0.799 eval_accuracy: 0.799\n",
     "output_type": "stream"
    },
    {
     "name": "stderr",
     "text": "101it [00:37,  2.68it/s]\n",
     "output_type": "stream"
    },
    {
     "name": "stdout",
     "text": "EPOCH 27\n",
     "output_type": "stream"
    },
    {
     "name": "stderr",
     "text": "1it [00:01,  1.55s/it]",
     "output_type": "stream"
    },
    {
     "name": "stdout",
     "text": "step 0 train_loss: 0.0879 eval_loss: 0.124 eval_f1: 0.797 eval_accuracy: 0.797\n",
     "output_type": "stream"
    },
    {
     "name": "stderr",
     "text": "41it [00:16,  1.43it/s]",
     "output_type": "stream"
    },
    {
     "name": "stdout",
     "text": "step 40 train_loss: 0.117 eval_loss: 0.123 eval_f1: 0.801 eval_accuracy: 0.801\n",
     "output_type": "stream"
    },
    {
     "name": "stderr",
     "text": "81it [00:31,  1.40it/s]",
     "output_type": "stream"
    },
    {
     "name": "stdout",
     "text": "step 80 train_loss: 0.112 eval_loss: 0.124 eval_f1: 0.801 eval_accuracy: 0.801\n",
     "output_type": "stream"
    },
    {
     "name": "stderr",
     "text": "101it [00:37,  2.67it/s]\n",
     "output_type": "stream"
    },
    {
     "name": "stdout",
     "text": "EPOCH 28\n",
     "output_type": "stream"
    },
    {
     "name": "stderr",
     "text": "1it [00:01,  1.55s/it]",
     "output_type": "stream"
    },
    {
     "name": "stdout",
     "text": "step 0 train_loss: 0.0994 eval_loss: 0.123 eval_f1: 0.801 eval_accuracy: 0.801\n",
     "output_type": "stream"
    },
    {
     "name": "stderr",
     "text": "41it [00:16,  1.42it/s]",
     "output_type": "stream"
    },
    {
     "name": "stdout",
     "text": "step 40 train_loss: 0.117 eval_loss: 0.121 eval_f1: 0.806 eval_accuracy: 0.806\n",
     "output_type": "stream"
    },
    {
     "name": "stderr",
     "text": "81it [00:31,  1.44it/s]",
     "output_type": "stream"
    },
    {
     "name": "stdout",
     "text": "step 80 train_loss: 0.114 eval_loss: 0.123 eval_f1: 0.8 eval_accuracy: 0.8\n",
     "output_type": "stream"
    },
    {
     "name": "stderr",
     "text": "101it [00:38,  2.66it/s]\n",
     "output_type": "stream"
    },
    {
     "name": "stdout",
     "text": "EPOCH 29\n",
     "output_type": "stream"
    },
    {
     "name": "stderr",
     "text": "1it [00:01,  1.54s/it]",
     "output_type": "stream"
    },
    {
     "name": "stdout",
     "text": "step 0 train_loss: 0.138 eval_loss: 0.125 eval_f1: 0.799 eval_accuracy: 0.799\n",
     "output_type": "stream"
    },
    {
     "name": "stderr",
     "text": "41it [00:16,  1.42it/s]",
     "output_type": "stream"
    },
    {
     "name": "stdout",
     "text": "step 40 train_loss: 0.115 eval_loss: 0.124 eval_f1: 0.798 eval_accuracy: 0.798\n",
     "output_type": "stream"
    },
    {
     "name": "stderr",
     "text": "81it [00:31,  1.44it/s]",
     "output_type": "stream"
    },
    {
     "name": "stdout",
     "text": "step 80 train_loss: 0.114 eval_loss: 0.125 eval_f1: 0.796 eval_accuracy: 0.796\n",
     "output_type": "stream"
    },
    {
     "name": "stderr",
     "text": "101it [00:37,  2.68it/s]\n",
     "output_type": "stream"
    },
    {
     "name": "stdout",
     "text": "EPOCH 30\n",
     "output_type": "stream"
    },
    {
     "name": "stderr",
     "text": "1it [00:01,  1.58s/it]",
     "output_type": "stream"
    },
    {
     "name": "stdout",
     "text": "step 0 train_loss: 0.0942 eval_loss: 0.123 eval_f1: 0.8 eval_accuracy: 0.8\n",
     "output_type": "stream"
    },
    {
     "name": "stderr",
     "text": "41it [00:16,  1.39it/s]",
     "output_type": "stream"
    },
    {
     "name": "stdout",
     "text": "step 40 train_loss: 0.116 eval_loss: 0.124 eval_f1: 0.803 eval_accuracy: 0.803\n",
     "output_type": "stream"
    },
    {
     "name": "stderr",
     "text": "81it [00:30,  1.39it/s]",
     "output_type": "stream"
    },
    {
     "name": "stdout",
     "text": "step 80 train_loss: 0.114 eval_loss: 0.124 eval_f1: 0.798 eval_accuracy: 0.798\n",
     "output_type": "stream"
    },
    {
     "name": "stderr",
     "text": "101it [00:37,  2.67it/s]\n",
     "output_type": "stream"
    },
    {
     "name": "stdout",
     "text": "EPOCH 31\n",
     "output_type": "stream"
    },
    {
     "name": "stderr",
     "text": "1it [00:01,  1.57s/it]",
     "output_type": "stream"
    },
    {
     "name": "stdout",
     "text": "step 0 train_loss: 0.106 eval_loss: 0.125 eval_f1: 0.8 eval_accuracy: 0.8\n",
     "output_type": "stream"
    },
    {
     "name": "stderr",
     "text": "41it [00:16,  1.41it/s]",
     "output_type": "stream"
    },
    {
     "name": "stdout",
     "text": "step 40 train_loss: 0.115 eval_loss: 0.125 eval_f1: 0.799 eval_accuracy: 0.799\n",
     "output_type": "stream"
    },
    {
     "name": "stderr",
     "text": "81it [00:30,  1.43it/s]",
     "output_type": "stream"
    },
    {
     "name": "stdout",
     "text": "step 80 train_loss: 0.113 eval_loss: 0.123 eval_f1: 0.799 eval_accuracy: 0.799\n",
     "output_type": "stream"
    },
    {
     "name": "stderr",
     "text": "101it [00:37,  2.69it/s]\n",
     "output_type": "stream"
    },
    {
     "name": "stdout",
     "text": "EPOCH 32\n",
     "output_type": "stream"
    },
    {
     "name": "stderr",
     "text": "1it [00:01,  1.60s/it]",
     "output_type": "stream"
    },
    {
     "name": "stdout",
     "text": "step 0 train_loss: 0.105 eval_loss: 0.125 eval_f1: 0.795 eval_accuracy: 0.795\n",
     "output_type": "stream"
    },
    {
     "name": "stderr",
     "text": "41it [00:16,  1.43it/s]",
     "output_type": "stream"
    },
    {
     "name": "stdout",
     "text": "step 40 train_loss: 0.118 eval_loss: 0.124 eval_f1: 0.799 eval_accuracy: 0.799\n",
     "output_type": "stream"
    },
    {
     "name": "stderr",
     "text": "81it [00:31,  1.43it/s]",
     "output_type": "stream"
    },
    {
     "name": "stdout",
     "text": "step 80 train_loss: 0.11 eval_loss: 0.124 eval_f1: 0.798 eval_accuracy: 0.798\n",
     "output_type": "stream"
    },
    {
     "name": "stderr",
     "text": "101it [00:37,  2.67it/s]\n",
     "output_type": "stream"
    },
    {
     "name": "stdout",
     "text": "EPOCH 33\n",
     "output_type": "stream"
    },
    {
     "name": "stderr",
     "text": "1it [00:01,  1.55s/it]",
     "output_type": "stream"
    },
    {
     "name": "stdout",
     "text": "step 0 train_loss: 0.139 eval_loss: 0.124 eval_f1: 0.799 eval_accuracy: 0.799\n",
     "output_type": "stream"
    },
    {
     "name": "stderr",
     "text": "41it [00:16,  1.38it/s]",
     "output_type": "stream"
    },
    {
     "name": "stdout",
     "text": "step 40 train_loss: 0.113 eval_loss: 0.124 eval_f1: 0.798 eval_accuracy: 0.798\n",
     "output_type": "stream"
    },
    {
     "name": "stderr",
     "text": "81it [00:31,  1.41it/s]",
     "output_type": "stream"
    },
    {
     "name": "stdout",
     "text": "step 80 train_loss: 0.113 eval_loss: 0.124 eval_f1: 0.8 eval_accuracy: 0.8\n",
     "output_type": "stream"
    },
    {
     "name": "stderr",
     "text": "101it [00:37,  2.67it/s]\n",
     "output_type": "stream"
    },
    {
     "name": "stdout",
     "text": "EPOCH 34\n",
     "output_type": "stream"
    },
    {
     "name": "stderr",
     "text": "1it [00:01,  1.57s/it]",
     "output_type": "stream"
    },
    {
     "name": "stdout",
     "text": "step 0 train_loss: 0.0923 eval_loss: 0.122 eval_f1: 0.799 eval_accuracy: 0.799\n",
     "output_type": "stream"
    },
    {
     "name": "stderr",
     "text": "41it [00:16,  1.42it/s]",
     "output_type": "stream"
    },
    {
     "name": "stdout",
     "text": "step 40 train_loss: 0.115 eval_loss: 0.123 eval_f1: 0.8 eval_accuracy: 0.8\n",
     "output_type": "stream"
    },
    {
     "name": "stderr",
     "text": "81it [00:31,  1.42it/s]",
     "output_type": "stream"
    },
    {
     "name": "stdout",
     "text": "step 80 train_loss: 0.115 eval_loss: 0.124 eval_f1: 0.797 eval_accuracy: 0.797\n",
     "output_type": "stream"
    },
    {
     "name": "stderr",
     "text": "101it [00:37,  2.67it/s]\n",
     "output_type": "stream"
    },
    {
     "name": "stdout",
     "text": "EPOCH 35\n",
     "output_type": "stream"
    },
    {
     "name": "stderr",
     "text": "1it [00:01,  1.69s/it]",
     "output_type": "stream"
    },
    {
     "name": "stdout",
     "text": "step 0 train_loss: 0.111 eval_loss: 0.123 eval_f1: 0.798 eval_accuracy: 0.798\n",
     "output_type": "stream"
    },
    {
     "name": "stderr",
     "text": "41it [00:16,  1.41it/s]",
     "output_type": "stream"
    },
    {
     "name": "stdout",
     "text": "step 40 train_loss: 0.112 eval_loss: 0.124 eval_f1: 0.797 eval_accuracy: 0.797\n",
     "output_type": "stream"
    },
    {
     "name": "stderr",
     "text": "81it [00:31,  1.44it/s]",
     "output_type": "stream"
    },
    {
     "name": "stdout",
     "text": "step 80 train_loss: 0.111 eval_loss: 0.125 eval_f1: 0.797 eval_accuracy: 0.797\n",
     "output_type": "stream"
    },
    {
     "name": "stderr",
     "text": "101it [00:37,  2.67it/s]\n",
     "output_type": "stream"
    },
    {
     "name": "stdout",
     "text": "EPOCH 36\n",
     "output_type": "stream"
    },
    {
     "name": "stderr",
     "text": "1it [00:01,  1.58s/it]",
     "output_type": "stream"
    },
    {
     "name": "stdout",
     "text": "step 0 train_loss: 0.125 eval_loss: 0.124 eval_f1: 0.798 eval_accuracy: 0.798\n",
     "output_type": "stream"
    },
    {
     "name": "stderr",
     "text": "41it [00:16,  1.41it/s]",
     "output_type": "stream"
    },
    {
     "name": "stdout",
     "text": "step 40 train_loss: 0.115 eval_loss: 0.124 eval_f1: 0.798 eval_accuracy: 0.798\n",
     "output_type": "stream"
    },
    {
     "name": "stderr",
     "text": "81it [00:31,  1.44it/s]",
     "output_type": "stream"
    },
    {
     "name": "stdout",
     "text": "step 80 train_loss: 0.112 eval_loss: 0.125 eval_f1: 0.795 eval_accuracy: 0.795\n",
     "output_type": "stream"
    },
    {
     "name": "stderr",
     "text": "101it [00:37,  2.67it/s]\n",
     "output_type": "stream"
    },
    {
     "name": "stdout",
     "text": "EPOCH 37\n",
     "output_type": "stream"
    },
    {
     "name": "stderr",
     "text": "1it [00:01,  1.57s/it]",
     "output_type": "stream"
    },
    {
     "name": "stdout",
     "text": "step 0 train_loss: 0.13 eval_loss: 0.124 eval_f1: 0.799 eval_accuracy: 0.799\n",
     "output_type": "stream"
    },
    {
     "name": "stderr",
     "text": "41it [00:16,  1.41it/s]",
     "output_type": "stream"
    },
    {
     "name": "stdout",
     "text": "step 40 train_loss: 0.115 eval_loss: 0.126 eval_f1: 0.793 eval_accuracy: 0.793\n",
     "output_type": "stream"
    },
    {
     "name": "stderr",
     "text": "81it [00:30,  1.42it/s]",
     "output_type": "stream"
    },
    {
     "name": "stdout",
     "text": "step 80 train_loss: 0.115 eval_loss: 0.124 eval_f1: 0.795 eval_accuracy: 0.795\n",
     "output_type": "stream"
    },
    {
     "name": "stderr",
     "text": "101it [00:37,  2.68it/s]\n",
     "output_type": "stream"
    },
    {
     "name": "stdout",
     "text": "EPOCH 38\n",
     "output_type": "stream"
    },
    {
     "name": "stderr",
     "text": "1it [00:01,  1.54s/it]",
     "output_type": "stream"
    },
    {
     "name": "stdout",
     "text": "step 0 train_loss: 0.117 eval_loss: 0.123 eval_f1: 0.799 eval_accuracy: 0.799\n",
     "output_type": "stream"
    },
    {
     "name": "stderr",
     "text": "41it [00:16,  1.42it/s]",
     "output_type": "stream"
    },
    {
     "name": "stdout",
     "text": "step 40 train_loss: 0.111 eval_loss: 0.124 eval_f1: 0.8 eval_accuracy: 0.8\n",
     "output_type": "stream"
    },
    {
     "name": "stderr",
     "text": "81it [00:31,  1.41it/s]",
     "output_type": "stream"
    },
    {
     "name": "stdout",
     "text": "step 80 train_loss: 0.117 eval_loss: 0.124 eval_f1: 0.797 eval_accuracy: 0.797\n",
     "output_type": "stream"
    },
    {
     "name": "stderr",
     "text": "101it [00:37,  2.67it/s]\n",
     "output_type": "stream"
    },
    {
     "name": "stdout",
     "text": "EPOCH 39\n",
     "output_type": "stream"
    },
    {
     "name": "stderr",
     "text": "1it [00:01,  1.55s/it]",
     "output_type": "stream"
    },
    {
     "name": "stdout",
     "text": "step 0 train_loss: 0.114 eval_loss: 0.124 eval_f1: 0.798 eval_accuracy: 0.798\n",
     "output_type": "stream"
    },
    {
     "name": "stderr",
     "text": "41it [00:16,  1.34it/s]",
     "output_type": "stream"
    },
    {
     "name": "stdout",
     "text": "step 40 train_loss: 0.113 eval_loss: 0.125 eval_f1: 0.795 eval_accuracy: 0.795\n",
     "output_type": "stream"
    },
    {
     "name": "stderr",
     "text": "81it [00:30,  1.42it/s]",
     "output_type": "stream"
    },
    {
     "name": "stdout",
     "text": "step 80 train_loss: 0.113 eval_loss: 0.125 eval_f1: 0.796 eval_accuracy: 0.796\n",
     "output_type": "stream"
    },
    {
     "name": "stderr",
     "text": "101it [00:37,  2.68it/s]\n",
     "output_type": "stream"
    }
   ]
  },
  {
   "cell_type": "code",
   "source": [
    "num = 0\n",
    "den = 0\n",
    "y_true = list()\n",
    "y_pred = list()\n",
    "y_pred_prob = list()\n",
    "f1_valid = .0\n",
    "\n",
    "\n",
    "for x, y in val_loader:\n",
    "        with torch.no_grad():\n",
    "            output = model(\n",
    "                input_ids=x.input_ids,\n",
    "                attention_mask=x.attention_mask,\n",
    "                token_type_ids=x.token_type_ids,\n",
    "                labels=y,\n",
    "                return_dict=True\n",
    "            )\n",
    "            loss = output.loss\n",
    "            \n",
    "            y_pred.extend(torch.argmax(output.logits, 1).tolist())\n",
    "            y_pred_prob.extend(softmax(output.logits, dim = 1)[:, 1].tolist())\n",
    "            y_true.extend(torch.argmax(y, 1).tolist())\n",
    "            \n",
    "            print(y_pred)\n",
    "            print(y_true)\n",
    "            break"
   ],
   "metadata": {
    "execution": {
     "iopub.status.busy": "2023-12-05T15:49:53.882506Z",
     "iopub.execute_input": "2023-12-05T15:49:53.883378Z",
     "iopub.status.idle": "2023-12-05T15:49:54.025361Z",
     "shell.execute_reply.started": "2023-12-05T15:49:53.883347Z",
     "shell.execute_reply": "2023-12-05T15:49:54.024489Z"
    },
    "trusted": true
   },
   "execution_count": 37,
   "outputs": [
    {
     "name": "stdout",
     "text": "[6, 5, 5, 3, 2, 3, 2, 3, 5, 0, 3, 6, 6, 3, 4, 6, 3, 6, 2, 2, 3, 3, 3, 6, 1, 5, 6, 5, 4, 5, 5, 1, 5, 4, 2, 4, 0, 4, 3, 0, 2, 5, 5, 0, 6, 1, 6, 6, 3, 1, 0, 5, 4, 2, 0, 3, 5, 1, 7, 2, 3, 6, 1, 6, 5, 4, 1, 6, 5, 4, 2, 6, 3, 6, 2, 6, 1, 6, 1, 6, 6, 5, 4, 0, 4, 5, 3, 1, 5, 0, 4, 1, 0, 4, 4, 6, 4, 5, 4, 6, 6, 2, 5, 3, 2, 6, 5, 4, 7, 5, 5, 2, 4, 1, 3, 2, 0, 5, 3, 4, 6, 6, 2, 1, 3, 2, 4, 1]\n[6, 4, 5, 3, 2, 3, 2, 3, 5, 0, 3, 6, 6, 3, 4, 6, 2, 6, 2, 2, 3, 2, 3, 6, 1, 5, 5, 5, 4, 5, 5, 1, 5, 4, 2, 4, 2, 4, 3, 0, 2, 5, 5, 0, 6, 1, 6, 5, 3, 0, 0, 5, 5, 2, 3, 3, 5, 0, 7, 1, 3, 6, 1, 6, 5, 4, 1, 4, 5, 4, 2, 6, 4, 6, 2, 6, 1, 6, 2, 6, 6, 5, 4, 1, 4, 5, 3, 2, 5, 0, 4, 2, 1, 4, 4, 6, 4, 5, 4, 6, 6, 2, 4, 3, 2, 6, 5, 4, 7, 5, 5, 1, 4, 1, 2, 1, 0, 5, 3, 4, 6, 6, 2, 2, 3, 1, 4, 0]\n",
     "output_type": "stream"
    }
   ]
  },
  {
   "cell_type": "markdown",
   "source": [
    "# Проверка на тестовой выборке"
   ],
   "metadata": {}
  },
  {
   "cell_type": "code",
   "source": [
    "y_true = list()\n",
    "y_pred = list()\n",
    "y_pred_prob = list()\n",
    "f1_valid = .0\n",
    "\n",
    "\n",
    "for x, y in val_loader:\n",
    "        with torch.no_grad():\n",
    "            output = model(\n",
    "                input_ids=x.input_ids,\n",
    "                attention_mask=x.attention_mask,\n",
    "                token_type_ids=x.token_type_ids,\n",
    "                labels=y,\n",
    "                return_dict=True\n",
    "            )\n",
    "            loss = output.loss\n",
    "            \n",
    "            y_pred.extend(torch.argmax(output.logits, 1).tolist())\n",
    "            y_pred_prob.extend(softmax(output.logits, dim = 1)[:, 1].tolist())\n",
    "            y_true.extend(torch.argmax(y, 1).tolist())\n",
    "            \n",
    "accuracy_test = accuracy_score(y_true, y_pred)\n",
    "            "
   ],
   "metadata": {
    "execution": {
     "iopub.status.busy": "2023-12-05T15:50:08.083844Z",
     "iopub.execute_input": "2023-12-05T15:50:08.084222Z",
     "iopub.status.idle": "2023-12-05T15:50:09.327717Z",
     "shell.execute_reply.started": "2023-12-05T15:50:08.084192Z",
     "shell.execute_reply": "2023-12-05T15:50:09.326982Z"
    },
    "trusted": true
   },
   "execution_count": 38,
   "outputs": []
  },
  {
   "cell_type": "code",
   "source": [
    "accuracy_test"
   ],
   "metadata": {
    "execution": {
     "iopub.status.busy": "2023-12-05T15:50:09.886529Z",
     "iopub.execute_input": "2023-12-05T15:50:09.886844Z",
     "iopub.status.idle": "2023-12-05T15:50:09.892896Z",
     "shell.execute_reply.started": "2023-12-05T15:50:09.886817Z",
     "shell.execute_reply": "2023-12-05T15:50:09.891959Z"
    },
    "trusted": true
   },
   "execution_count": 39,
   "outputs": [
    {
     "execution_count": 39,
     "output_type": "execute_result",
     "data": {
      "text/plain": "0.7904829545454546"
     },
     "metadata": {}
    }
   ]
  },
  {
   "cell_type": "markdown",
   "source": [
    "# Если загрузить веса с лучшей эпохи"
   ],
   "metadata": {}
  },
  {
   "cell_type": "code",
   "source": [
    "model_best = model = BertForSequenceClassification.from_pretrained(\"bert-base-multilingual-uncased\", problem_type=\"multi_label_classification\", num_labels=number_of_classes).cuda()"
   ],
   "metadata": {
    "execution": {
     "iopub.status.busy": "2023-12-05T15:55:10.037088Z",
     "iopub.execute_input": "2023-12-05T15:55:10.037443Z",
     "iopub.status.idle": "2023-12-05T15:55:12.186597Z",
     "shell.execute_reply.started": "2023-12-05T15:55:10.037418Z",
     "shell.execute_reply": "2023-12-05T15:55:12.185771Z"
    },
    "trusted": true
   },
   "execution_count": 45,
   "outputs": [
    {
     "name": "stderr",
     "text": "Some weights of BertForSequenceClassification were not initialized from the model checkpoint at bert-base-multilingual-uncased and are newly initialized: ['classifier.bias', 'classifier.weight']\nYou should probably TRAIN this model on a down-stream task to be able to use it for predictions and inference.\n",
     "output_type": "stream"
    }
   ]
  },
  {
   "cell_type": "code",
   "source": [
    "model_best.load_state_dict(torch.load(SAVE_PATH))"
   ],
   "metadata": {
    "execution": {
     "iopub.status.busy": "2023-12-05T15:55:58.853322Z",
     "iopub.execute_input": "2023-12-05T15:55:58.854169Z",
     "iopub.status.idle": "2023-12-05T15:55:59.400005Z",
     "shell.execute_reply.started": "2023-12-05T15:55:58.854134Z",
     "shell.execute_reply": "2023-12-05T15:55:59.398995Z"
    },
    "trusted": true
   },
   "execution_count": 46,
   "outputs": [
    {
     "execution_count": 46,
     "output_type": "execute_result",
     "data": {
      "text/plain": "<All keys matched successfully>"
     },
     "metadata": {}
    }
   ]
  },
  {
   "cell_type": "code",
   "source": [
    "model_best.eval()\n",
    "\n",
    "\n",
    "y_true = list()\n",
    "y_pred = list()\n",
    "y_pred_prob = list()\n",
    "f1_valid = .0\n",
    "\n",
    "\n",
    "for x, y in val_loader:\n",
    "        with torch.no_grad():\n",
    "            output = model(\n",
    "                input_ids=x.input_ids,\n",
    "                attention_mask=x.attention_mask,\n",
    "                token_type_ids=x.token_type_ids,\n",
    "                labels=y,\n",
    "                return_dict=True\n",
    "            )\n",
    "            loss = output.loss\n",
    "            \n",
    "            y_pred.extend(torch.argmax(output.logits, 1).tolist())\n",
    "            y_pred_prob.extend(softmax(output.logits, dim = 1)[:, 1].tolist())\n",
    "            y_true.extend(torch.argmax(y, 1).tolist())\n",
    "            \n",
    "accuracy_test = accuracy_score(y_true, y_pred)\n",
    "            "
   ],
   "metadata": {
    "execution": {
     "iopub.status.busy": "2023-12-05T15:56:27.443622Z",
     "iopub.execute_input": "2023-12-05T15:56:27.444269Z",
     "iopub.status.idle": "2023-12-05T15:56:28.687843Z",
     "shell.execute_reply.started": "2023-12-05T15:56:27.444236Z",
     "shell.execute_reply": "2023-12-05T15:56:28.686866Z"
    },
    "trusted": true
   },
   "execution_count": 48,
   "outputs": []
  },
  {
   "cell_type": "code",
   "source": [
    "accuracy_test"
   ],
   "metadata": {
    "execution": {
     "iopub.status.busy": "2023-12-05T15:56:35.040284Z",
     "iopub.execute_input": "2023-12-05T15:56:35.040625Z",
     "iopub.status.idle": "2023-12-05T15:56:35.047095Z",
     "shell.execute_reply.started": "2023-12-05T15:56:35.040599Z",
     "shell.execute_reply": "2023-12-05T15:56:35.046013Z"
    },
    "trusted": true
   },
   "execution_count": 49,
   "outputs": [
    {
     "execution_count": 49,
     "output_type": "execute_result",
     "data": {
      "text/plain": "0.8082386363636364"
     },
     "metadata": {}
    }
   ]
  },
  {
   "cell_type": "markdown",
   "source": [
    "# Итог: с помощью BERT получилось добиться accuracy = 0.808"
   ],
   "metadata": {}
  },
  {
   "cell_type": "markdown",
   "source": [],
   "metadata": {}
  },
  {
   "cell_type": "code",
   "source": [],
   "metadata": {
    "execution": {
     "iopub.status.busy": "2023-12-05T16:02:13.743075Z",
     "iopub.execute_input": "2023-12-05T16:02:13.743898Z",
     "iopub.status.idle": "2023-12-05T16:02:27.063243Z",
     "shell.execute_reply.started": "2023-12-05T16:02:13.743866Z",
     "shell.execute_reply": "2023-12-05T16:02:27.062361Z"
    },
    "trusted": true
   },
   "execution_count": 50,
   "outputs": []
  },
  {
   "cell_type": "code",
   "source": [],
   "metadata": {},
   "execution_count": null,
   "outputs": []
  }
 ]
}
